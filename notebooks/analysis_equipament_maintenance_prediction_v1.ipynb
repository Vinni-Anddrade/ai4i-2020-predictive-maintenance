{
 "cells": [
  {
   "cell_type": "markdown",
   "id": "46e144cf",
   "metadata": {},
   "source": [
    "# Equipament Maintenance Prediction"
   ]
  },
  {
   "cell_type": "code",
   "execution_count": 12,
   "id": "ecc477b4",
   "metadata": {},
   "outputs": [],
   "source": [
    "import mlflow\n",
    "import os\n",
    "import pandas as pd\n",
    "import matplotlib.pyplot as plt\n",
    "import numpy as np\n",
    "import seaborn as sns\n",
    "import statsmodels.api as sm\n",
    "\n",
    "from imblearn.over_sampling import SMOTE\n",
    "from pathlib import Path\n",
    "from scipy import stats\n",
    "from sklearn.ensemble import HistGradientBoostingClassifier\n",
    "from sklearn.ensemble import RandomForestClassifier\n",
    "from sklearn.feature_selection import mutual_info_regression\n",
    "from sklearn.metrics import accuracy_score, confusion_matrix, recall_score, f1_score, roc_curve, auc\n",
    "from sklearn.model_selection import GridSearchCV\n",
    "from sklearn.model_selection import train_test_split\n",
    "from sklearn.naive_bayes import GaussianNB\n",
    "from sklearn.preprocessing import MinMaxScaler\n",
    "from sklearn.preprocessing import PowerTransformer\n",
    "from sklearn.svm import SVC\n",
    "from sklearn.tree import DecisionTreeClassifier\n",
    "from statsmodels.stats.outliers_influence import variance_inflation_factor\n",
    "from xgboost import XGBClassifier"
   ]
  },
  {
   "cell_type": "code",
   "execution_count": 13,
   "id": "abfcb9e6",
   "metadata": {},
   "outputs": [],
   "source": [
    "ROOT_PATH = Path(__name__).resolve().parent.parent\n",
    "data_folder_path = os.path.join(ROOT_PATH, \"data\")\n",
    "\n",
    "data_path = os.path.join(data_folder_path, \"equipament-cycles.csv\")"
   ]
  },
  {
   "cell_type": "code",
   "execution_count": 14,
   "id": "a504dfd3",
   "metadata": {},
   "outputs": [
    {
     "data": {
      "text/html": [
       "<div>\n",
       "<style scoped>\n",
       "    .dataframe tbody tr th:only-of-type {\n",
       "        vertical-align: middle;\n",
       "    }\n",
       "\n",
       "    .dataframe tbody tr th {\n",
       "        vertical-align: top;\n",
       "    }\n",
       "\n",
       "    .dataframe thead th {\n",
       "        text-align: right;\n",
       "    }\n",
       "</style>\n",
       "<table border=\"1\" class=\"dataframe\">\n",
       "  <thead>\n",
       "    <tr style=\"text-align: right;\">\n",
       "      <th></th>\n",
       "      <th>UDI</th>\n",
       "      <th>Product ID</th>\n",
       "      <th>Type</th>\n",
       "      <th>Air temperature [K]</th>\n",
       "      <th>Process temperature [K]</th>\n",
       "      <th>Rotational speed [rpm]</th>\n",
       "      <th>Torque [Nm]</th>\n",
       "      <th>Tool wear [min]</th>\n",
       "      <th>Machine failure</th>\n",
       "      <th>TWF</th>\n",
       "      <th>HDF</th>\n",
       "      <th>PWF</th>\n",
       "      <th>OSF</th>\n",
       "      <th>RNF</th>\n",
       "    </tr>\n",
       "  </thead>\n",
       "  <tbody>\n",
       "    <tr>\n",
       "      <th>0</th>\n",
       "      <td>1</td>\n",
       "      <td>M14860</td>\n",
       "      <td>M</td>\n",
       "      <td>298.1</td>\n",
       "      <td>308.6</td>\n",
       "      <td>1551</td>\n",
       "      <td>42.8</td>\n",
       "      <td>0</td>\n",
       "      <td>0</td>\n",
       "      <td>0</td>\n",
       "      <td>0</td>\n",
       "      <td>0</td>\n",
       "      <td>0</td>\n",
       "      <td>0</td>\n",
       "    </tr>\n",
       "    <tr>\n",
       "      <th>1</th>\n",
       "      <td>2</td>\n",
       "      <td>L47181</td>\n",
       "      <td>L</td>\n",
       "      <td>298.2</td>\n",
       "      <td>308.7</td>\n",
       "      <td>1408</td>\n",
       "      <td>46.3</td>\n",
       "      <td>3</td>\n",
       "      <td>0</td>\n",
       "      <td>0</td>\n",
       "      <td>0</td>\n",
       "      <td>0</td>\n",
       "      <td>0</td>\n",
       "      <td>0</td>\n",
       "    </tr>\n",
       "    <tr>\n",
       "      <th>2</th>\n",
       "      <td>3</td>\n",
       "      <td>L47182</td>\n",
       "      <td>L</td>\n",
       "      <td>298.1</td>\n",
       "      <td>308.5</td>\n",
       "      <td>1498</td>\n",
       "      <td>49.4</td>\n",
       "      <td>5</td>\n",
       "      <td>0</td>\n",
       "      <td>0</td>\n",
       "      <td>0</td>\n",
       "      <td>0</td>\n",
       "      <td>0</td>\n",
       "      <td>0</td>\n",
       "    </tr>\n",
       "    <tr>\n",
       "      <th>3</th>\n",
       "      <td>4</td>\n",
       "      <td>L47183</td>\n",
       "      <td>L</td>\n",
       "      <td>298.2</td>\n",
       "      <td>308.6</td>\n",
       "      <td>1433</td>\n",
       "      <td>39.5</td>\n",
       "      <td>7</td>\n",
       "      <td>0</td>\n",
       "      <td>0</td>\n",
       "      <td>0</td>\n",
       "      <td>0</td>\n",
       "      <td>0</td>\n",
       "      <td>0</td>\n",
       "    </tr>\n",
       "    <tr>\n",
       "      <th>4</th>\n",
       "      <td>5</td>\n",
       "      <td>L47184</td>\n",
       "      <td>L</td>\n",
       "      <td>298.2</td>\n",
       "      <td>308.7</td>\n",
       "      <td>1408</td>\n",
       "      <td>40.0</td>\n",
       "      <td>9</td>\n",
       "      <td>0</td>\n",
       "      <td>0</td>\n",
       "      <td>0</td>\n",
       "      <td>0</td>\n",
       "      <td>0</td>\n",
       "      <td>0</td>\n",
       "    </tr>\n",
       "  </tbody>\n",
       "</table>\n",
       "</div>"
      ],
      "text/plain": [
       "   UDI Product ID Type  Air temperature [K]  Process temperature [K]  \\\n",
       "0    1     M14860    M                298.1                    308.6   \n",
       "1    2     L47181    L                298.2                    308.7   \n",
       "2    3     L47182    L                298.1                    308.5   \n",
       "3    4     L47183    L                298.2                    308.6   \n",
       "4    5     L47184    L                298.2                    308.7   \n",
       "\n",
       "   Rotational speed [rpm]  Torque [Nm]  Tool wear [min]  Machine failure  TWF  \\\n",
       "0                    1551         42.8                0                0    0   \n",
       "1                    1408         46.3                3                0    0   \n",
       "2                    1498         49.4                5                0    0   \n",
       "3                    1433         39.5                7                0    0   \n",
       "4                    1408         40.0                9                0    0   \n",
       "\n",
       "   HDF  PWF  OSF  RNF  \n",
       "0    0    0    0    0  \n",
       "1    0    0    0    0  \n",
       "2    0    0    0    0  \n",
       "3    0    0    0    0  \n",
       "4    0    0    0    0  "
      ]
     },
     "execution_count": 14,
     "metadata": {},
     "output_type": "execute_result"
    }
   ],
   "source": [
    "data = pd.read_csv(data_path, header=0, sep=\",\")\n",
    "\n",
    "data.head()"
   ]
  },
  {
   "cell_type": "code",
   "execution_count": 15,
   "id": "d975ed81",
   "metadata": {},
   "outputs": [
    {
     "data": {
      "text/html": [
       "<div>\n",
       "<style scoped>\n",
       "    .dataframe tbody tr th:only-of-type {\n",
       "        vertical-align: middle;\n",
       "    }\n",
       "\n",
       "    .dataframe tbody tr th {\n",
       "        vertical-align: top;\n",
       "    }\n",
       "\n",
       "    .dataframe thead th {\n",
       "        text-align: right;\n",
       "    }\n",
       "</style>\n",
       "<table border=\"1\" class=\"dataframe\">\n",
       "  <thead>\n",
       "    <tr style=\"text-align: right;\">\n",
       "      <th></th>\n",
       "      <th>UDI</th>\n",
       "      <th>Product ID</th>\n",
       "      <th>Type</th>\n",
       "      <th>Air temperature [K]</th>\n",
       "      <th>Process temperature [K]</th>\n",
       "      <th>Rotational speed [rpm]</th>\n",
       "      <th>Torque [Nm]</th>\n",
       "      <th>Tool wear [min]</th>\n",
       "      <th>Machine failure</th>\n",
       "      <th>TWF</th>\n",
       "      <th>HDF</th>\n",
       "      <th>PWF</th>\n",
       "      <th>OSF</th>\n",
       "      <th>RNF</th>\n",
       "    </tr>\n",
       "  </thead>\n",
       "  <tbody>\n",
       "    <tr>\n",
       "      <th>50</th>\n",
       "      <td>51</td>\n",
       "      <td>L47230</td>\n",
       "      <td>L</td>\n",
       "      <td>298.9</td>\n",
       "      <td>309.1</td>\n",
       "      <td>2861</td>\n",
       "      <td>4.6</td>\n",
       "      <td>143</td>\n",
       "      <td>1</td>\n",
       "      <td>0</td>\n",
       "      <td>0</td>\n",
       "      <td>1</td>\n",
       "      <td>0</td>\n",
       "      <td>0</td>\n",
       "    </tr>\n",
       "    <tr>\n",
       "      <th>69</th>\n",
       "      <td>70</td>\n",
       "      <td>L47249</td>\n",
       "      <td>L</td>\n",
       "      <td>298.9</td>\n",
       "      <td>309.0</td>\n",
       "      <td>1410</td>\n",
       "      <td>65.7</td>\n",
       "      <td>191</td>\n",
       "      <td>1</td>\n",
       "      <td>0</td>\n",
       "      <td>0</td>\n",
       "      <td>1</td>\n",
       "      <td>1</td>\n",
       "      <td>0</td>\n",
       "    </tr>\n",
       "    <tr>\n",
       "      <th>77</th>\n",
       "      <td>78</td>\n",
       "      <td>L47257</td>\n",
       "      <td>L</td>\n",
       "      <td>298.8</td>\n",
       "      <td>308.9</td>\n",
       "      <td>1455</td>\n",
       "      <td>41.3</td>\n",
       "      <td>208</td>\n",
       "      <td>1</td>\n",
       "      <td>1</td>\n",
       "      <td>0</td>\n",
       "      <td>0</td>\n",
       "      <td>0</td>\n",
       "      <td>0</td>\n",
       "    </tr>\n",
       "    <tr>\n",
       "      <th>160</th>\n",
       "      <td>161</td>\n",
       "      <td>L47340</td>\n",
       "      <td>L</td>\n",
       "      <td>298.4</td>\n",
       "      <td>308.2</td>\n",
       "      <td>1282</td>\n",
       "      <td>60.7</td>\n",
       "      <td>216</td>\n",
       "      <td>1</td>\n",
       "      <td>0</td>\n",
       "      <td>0</td>\n",
       "      <td>0</td>\n",
       "      <td>1</td>\n",
       "      <td>0</td>\n",
       "    </tr>\n",
       "    <tr>\n",
       "      <th>161</th>\n",
       "      <td>162</td>\n",
       "      <td>L47341</td>\n",
       "      <td>L</td>\n",
       "      <td>298.3</td>\n",
       "      <td>308.1</td>\n",
       "      <td>1412</td>\n",
       "      <td>52.3</td>\n",
       "      <td>218</td>\n",
       "      <td>1</td>\n",
       "      <td>0</td>\n",
       "      <td>0</td>\n",
       "      <td>0</td>\n",
       "      <td>1</td>\n",
       "      <td>0</td>\n",
       "    </tr>\n",
       "    <tr>\n",
       "      <th>...</th>\n",
       "      <td>...</td>\n",
       "      <td>...</td>\n",
       "      <td>...</td>\n",
       "      <td>...</td>\n",
       "      <td>...</td>\n",
       "      <td>...</td>\n",
       "      <td>...</td>\n",
       "      <td>...</td>\n",
       "      <td>...</td>\n",
       "      <td>...</td>\n",
       "      <td>...</td>\n",
       "      <td>...</td>\n",
       "      <td>...</td>\n",
       "      <td>...</td>\n",
       "    </tr>\n",
       "    <tr>\n",
       "      <th>9758</th>\n",
       "      <td>9759</td>\n",
       "      <td>L56938</td>\n",
       "      <td>L</td>\n",
       "      <td>298.6</td>\n",
       "      <td>309.8</td>\n",
       "      <td>2271</td>\n",
       "      <td>16.2</td>\n",
       "      <td>218</td>\n",
       "      <td>1</td>\n",
       "      <td>1</td>\n",
       "      <td>0</td>\n",
       "      <td>0</td>\n",
       "      <td>0</td>\n",
       "      <td>0</td>\n",
       "    </tr>\n",
       "    <tr>\n",
       "      <th>9764</th>\n",
       "      <td>9765</td>\n",
       "      <td>L56944</td>\n",
       "      <td>L</td>\n",
       "      <td>298.5</td>\n",
       "      <td>309.5</td>\n",
       "      <td>1294</td>\n",
       "      <td>66.7</td>\n",
       "      <td>12</td>\n",
       "      <td>1</td>\n",
       "      <td>0</td>\n",
       "      <td>0</td>\n",
       "      <td>1</td>\n",
       "      <td>0</td>\n",
       "      <td>0</td>\n",
       "    </tr>\n",
       "    <tr>\n",
       "      <th>9822</th>\n",
       "      <td>9823</td>\n",
       "      <td>L57002</td>\n",
       "      <td>L</td>\n",
       "      <td>298.5</td>\n",
       "      <td>309.4</td>\n",
       "      <td>1360</td>\n",
       "      <td>60.9</td>\n",
       "      <td>187</td>\n",
       "      <td>1</td>\n",
       "      <td>0</td>\n",
       "      <td>0</td>\n",
       "      <td>0</td>\n",
       "      <td>1</td>\n",
       "      <td>0</td>\n",
       "    </tr>\n",
       "    <tr>\n",
       "      <th>9830</th>\n",
       "      <td>9831</td>\n",
       "      <td>L57010</td>\n",
       "      <td>L</td>\n",
       "      <td>298.3</td>\n",
       "      <td>309.3</td>\n",
       "      <td>1337</td>\n",
       "      <td>56.1</td>\n",
       "      <td>206</td>\n",
       "      <td>1</td>\n",
       "      <td>0</td>\n",
       "      <td>0</td>\n",
       "      <td>0</td>\n",
       "      <td>1</td>\n",
       "      <td>0</td>\n",
       "    </tr>\n",
       "    <tr>\n",
       "      <th>9974</th>\n",
       "      <td>9975</td>\n",
       "      <td>L57154</td>\n",
       "      <td>L</td>\n",
       "      <td>298.6</td>\n",
       "      <td>308.2</td>\n",
       "      <td>1361</td>\n",
       "      <td>68.2</td>\n",
       "      <td>172</td>\n",
       "      <td>1</td>\n",
       "      <td>0</td>\n",
       "      <td>0</td>\n",
       "      <td>1</td>\n",
       "      <td>1</td>\n",
       "      <td>0</td>\n",
       "    </tr>\n",
       "  </tbody>\n",
       "</table>\n",
       "<p>339 rows × 14 columns</p>\n",
       "</div>"
      ],
      "text/plain": [
       "       UDI Product ID Type  Air temperature [K]  Process temperature [K]  \\\n",
       "50      51     L47230    L                298.9                    309.1   \n",
       "69      70     L47249    L                298.9                    309.0   \n",
       "77      78     L47257    L                298.8                    308.9   \n",
       "160    161     L47340    L                298.4                    308.2   \n",
       "161    162     L47341    L                298.3                    308.1   \n",
       "...    ...        ...  ...                  ...                      ...   \n",
       "9758  9759     L56938    L                298.6                    309.8   \n",
       "9764  9765     L56944    L                298.5                    309.5   \n",
       "9822  9823     L57002    L                298.5                    309.4   \n",
       "9830  9831     L57010    L                298.3                    309.3   \n",
       "9974  9975     L57154    L                298.6                    308.2   \n",
       "\n",
       "      Rotational speed [rpm]  Torque [Nm]  Tool wear [min]  Machine failure  \\\n",
       "50                      2861          4.6              143                1   \n",
       "69                      1410         65.7              191                1   \n",
       "77                      1455         41.3              208                1   \n",
       "160                     1282         60.7              216                1   \n",
       "161                     1412         52.3              218                1   \n",
       "...                      ...          ...              ...              ...   \n",
       "9758                    2271         16.2              218                1   \n",
       "9764                    1294         66.7               12                1   \n",
       "9822                    1360         60.9              187                1   \n",
       "9830                    1337         56.1              206                1   \n",
       "9974                    1361         68.2              172                1   \n",
       "\n",
       "      TWF  HDF  PWF  OSF  RNF  \n",
       "50      0    0    1    0    0  \n",
       "69      0    0    1    1    0  \n",
       "77      1    0    0    0    0  \n",
       "160     0    0    0    1    0  \n",
       "161     0    0    0    1    0  \n",
       "...   ...  ...  ...  ...  ...  \n",
       "9758    1    0    0    0    0  \n",
       "9764    0    0    1    0    0  \n",
       "9822    0    0    0    1    0  \n",
       "9830    0    0    0    1    0  \n",
       "9974    0    0    1    1    0  \n",
       "\n",
       "[339 rows x 14 columns]"
      ]
     },
     "execution_count": 15,
     "metadata": {},
     "output_type": "execute_result"
    }
   ],
   "source": [
    "data.loc[data[\"Machine failure\"] == 1]"
   ]
  },
  {
   "cell_type": "code",
   "execution_count": 16,
   "id": "ab7e26e0",
   "metadata": {},
   "outputs": [
    {
     "data": {
      "text/plain": [
       "UDI                        0\n",
       "Product ID                 0\n",
       "Type                       0\n",
       "Air temperature [K]        0\n",
       "Process temperature [K]    0\n",
       "Rotational speed [rpm]     0\n",
       "Torque [Nm]                0\n",
       "Tool wear [min]            0\n",
       "Machine failure            0\n",
       "TWF                        0\n",
       "HDF                        0\n",
       "PWF                        0\n",
       "OSF                        0\n",
       "RNF                        0\n",
       "dtype: int64"
      ]
     },
     "execution_count": 16,
     "metadata": {},
     "output_type": "execute_result"
    }
   ],
   "source": [
    "data.isnull().sum()"
   ]
  },
  {
   "cell_type": "code",
   "execution_count": 17,
   "id": "73ee2b8c",
   "metadata": {},
   "outputs": [
    {
     "data": {
      "text/plain": [
       "UDI                          int64\n",
       "Product ID                  object\n",
       "Type                        object\n",
       "Air temperature [K]        float64\n",
       "Process temperature [K]    float64\n",
       "Rotational speed [rpm]       int64\n",
       "Torque [Nm]                float64\n",
       "Tool wear [min]              int64\n",
       "Machine failure              int64\n",
       "TWF                          int64\n",
       "HDF                          int64\n",
       "PWF                          int64\n",
       "OSF                          int64\n",
       "RNF                          int64\n",
       "dtype: object"
      ]
     },
     "execution_count": 17,
     "metadata": {},
     "output_type": "execute_result"
    }
   ],
   "source": [
    "data.dtypes"
   ]
  },
  {
   "cell_type": "code",
   "execution_count": 18,
   "id": "e99a9e58",
   "metadata": {},
   "outputs": [
    {
     "data": {
      "image/png": "[encoded data removed]",
      "text/plain": [
       "<Figure size 1800x1000 with 6 Axes>"
      ]
     },
     "metadata": {},
     "output_type": "display_data"
    }
   ],
   "source": [
    "cols_drop = [\"UDI\", \"Product ID\", \"Type\", \"Machine failure\", \"TWF\", \"HDF\", \"PWF\", \"OSF\", \"RNF\"]\n",
    "temp = data.drop(cols_drop, axis=1)\n",
    "\n",
    "fig, axes = plt.subplots(nrows=2, ncols=3, figsize=(18, 10))\n",
    "axes = axes.flatten()\n",
    "\n",
    "for i, col in enumerate(temp.columns):\n",
    "    ax = axes[i]\n",
    "    temp.boxplot(column=col, ax=ax)\n",
    "    ax.set_title(f\"{col.title()} BoxPlot Analysis\")\n",
    "    ax.set_ylabel(\"Value\")\n",
    "\n",
    "plt.tight_layout()\n",
    "plt.show();"
   ]
  },
  {
   "cell_type": "code",
   "execution_count": 19,
   "id": "8b3e540d",
   "metadata": {},
   "outputs": [
    {
     "data": {
      "image/png": "[encoded data removed]",
      "text/plain": [
       "<Figure size 1800x1000 with 6 Axes>"
      ]
     },
     "metadata": {},
     "output_type": "display_data"
    }
   ],
   "source": [
    "fig, axes = plt.subplots(nrows=2, ncols=3, figsize=(18, 10))\n",
    "axes = axes.flatten()\n",
    "\n",
    "for i, col in enumerate(temp.columns):\n",
    "    ax = axes[i]\n",
    "    temp.hist(column=col, ax=ax, grid=False, bins=50)\n",
    "    ax.set_title(f\"{col.title()} BoxPlot Analysis\")\n",
    "    ax.set_ylabel(\"Value\")\n",
    "\n",
    "plt.tight_layout()\n",
    "plt.show();"
   ]
  },
  {
   "cell_type": "markdown",
   "id": "4ab06b13",
   "metadata": {},
   "source": [
    "If the machine goes further than the top quantile, does it generate more failure?\n",
    "\n",
    "H0 -> Rotation on outlier parameters does not have impact<br>\n",
    "H1 -> Rotation on outlier parameters does have impact"
   ]
  },
  {
   "cell_type": "code",
   "execution_count": 20,
   "id": "c7373098",
   "metadata": {},
   "outputs": [],
   "source": [
    "q1 = data[\"Rotational speed [rpm]\"].quantile(0.25)\n",
    "q3 = data[\"Rotational speed [rpm]\"].quantile(0.75)\n",
    "\n",
    "iqr = q3 - q1\n",
    "superior_limit = q3 + 1.5 * iqr"
   ]
  },
  {
   "cell_type": "code",
   "execution_count": 21,
   "id": "66c185e5",
   "metadata": {},
   "outputs": [],
   "source": [
    "couting_over_limit = data.loc[data[\"Rotational speed [rpm]\"]>=superior_limit][\"Machine failure\"].value_counts()\n",
    "couting_under_limit = data.loc[data[\"Rotational speed [rpm]\"]<superior_limit][\"Machine failure\"].value_counts()"
   ]
  },
  {
   "cell_type": "code",
   "execution_count": 22,
   "id": "bd073bc4",
   "metadata": {},
   "outputs": [],
   "source": [
    "chance_of_failure_above_limit = (\n",
    "    couting_over_limit[1] / couting_over_limit.sum()\n",
    "    ) * 100"
   ]
  },
  {
   "cell_type": "code",
   "execution_count": 23,
   "id": "e45cdcc8",
   "metadata": {},
   "outputs": [],
   "source": [
    "chance_of_failure_under_limit = (\n",
    "    couting_under_limit[1] / couting_under_limit.sum()\n",
    "    ) * 100"
   ]
  },
  {
   "cell_type": "code",
   "execution_count": 24,
   "id": "d89e5d16",
   "metadata": {},
   "outputs": [
    {
     "name": "stdout",
     "output_type": "stream",
     "text": [
      "Above Limit: 8.37 %\n",
      "Under Limit: 3.17 %\n"
     ]
    }
   ],
   "source": [
    "print(f\"Above Limit: {chance_of_failure_above_limit.round(2)} %\")\n",
    "print(f\"Under Limit: {chance_of_failure_under_limit.round(2)} %\")"
   ]
  },
  {
   "cell_type": "markdown",
   "id": "548775a5",
   "metadata": {},
   "source": [
    "Although we have a higher chance of failure with the equipament running up to the outliers values, it's not conclusive that it generate a failure.<br>\n",
    "To really understand the impact of rotation on failure, we would have to take a look at the equipament manual and evaluate its operations limits.<br>"
   ]
  },
  {
   "cell_type": "markdown",
   "id": "83bae7df",
   "metadata": {},
   "source": [
    "Types of procuts manufactured"
   ]
  },
  {
   "cell_type": "code",
   "execution_count": 25,
   "id": "37ce82ef",
   "metadata": {},
   "outputs": [
    {
     "name": "stdout",
     "output_type": "stream",
     "text": [
      "Products: ['M' 'L' 'H']\n",
      "\n",
      "Counting: Type\n",
      "L    6000\n",
      "M    2997\n",
      "H    1003\n",
      "Name: count, dtype: int64\n"
     ]
    }
   ],
   "source": [
    "print(f\"Products: {data[\"Type\"].unique()}\\n\")\n",
    "print(f\"Counting: {data[\"Type\"].value_counts()}\")"
   ]
  },
  {
   "cell_type": "code",
   "execution_count": 26,
   "id": "f24f2a69",
   "metadata": {},
   "outputs": [],
   "source": [
    "resume_failure = data.loc[data[\"Machine failure\"]==1]\n",
    "resume_type = resume_failure.groupby([\"Type\"]).agg({\"Machine failure\": \"count\"}).reset_index()"
   ]
  },
  {
   "cell_type": "code",
   "execution_count": 27,
   "id": "ada58b66",
   "metadata": {},
   "outputs": [
    {
     "data": {
      "image/png": "[encoded data removed]",
      "text/plain": [
       "<Figure size 1300x600 with 1 Axes>"
      ]
     },
     "metadata": {},
     "output_type": "display_data"
    }
   ],
   "source": [
    "fig, ax = plt.subplots(figsize=(13, 6))\n",
    "\n",
    "bars = ax.barh(width=resume_type[\"Machine failure\"], y=resume_type[\"Type\"])\n",
    "ax.set_ylabel(\"Product Type\")\n",
    "ax.set_xlabel(\"Count\")\n",
    "ax.set_title(\"Counting failures of each product type manufactured\", loc=\"left\")\n",
    "ax.bar_label(bars, padding=3)\n",
    "plt.tight_layout()\n",
    "plt.show()"
   ]
  },
  {
   "cell_type": "markdown",
   "id": "12cf1b6e",
   "metadata": {},
   "source": [
    "Checking normalization on the variables"
   ]
  },
  {
   "cell_type": "code",
   "execution_count": 28,
   "id": "b5d40aa1",
   "metadata": {},
   "outputs": [
    {
     "data": {
      "text/html": [
       "<div>\n",
       "<style scoped>\n",
       "    .dataframe tbody tr th:only-of-type {\n",
       "        vertical-align: middle;\n",
       "    }\n",
       "\n",
       "    .dataframe tbody tr th {\n",
       "        vertical-align: top;\n",
       "    }\n",
       "\n",
       "    .dataframe thead th {\n",
       "        text-align: right;\n",
       "    }\n",
       "</style>\n",
       "<table border=\"1\" class=\"dataframe\">\n",
       "  <thead>\n",
       "    <tr style=\"text-align: right;\">\n",
       "      <th></th>\n",
       "      <th>UDI</th>\n",
       "      <th>Product ID</th>\n",
       "      <th>Type</th>\n",
       "      <th>Air temperature [K]</th>\n",
       "      <th>Process temperature [K]</th>\n",
       "      <th>Rotational speed [rpm]</th>\n",
       "      <th>Torque [Nm]</th>\n",
       "      <th>Tool wear [min]</th>\n",
       "      <th>Machine failure</th>\n",
       "      <th>TWF</th>\n",
       "      <th>HDF</th>\n",
       "      <th>PWF</th>\n",
       "      <th>OSF</th>\n",
       "      <th>RNF</th>\n",
       "    </tr>\n",
       "  </thead>\n",
       "  <tbody>\n",
       "    <tr>\n",
       "      <th>0</th>\n",
       "      <td>1</td>\n",
       "      <td>M14860</td>\n",
       "      <td>M</td>\n",
       "      <td>298.1</td>\n",
       "      <td>308.6</td>\n",
       "      <td>1551</td>\n",
       "      <td>42.8</td>\n",
       "      <td>0</td>\n",
       "      <td>0</td>\n",
       "      <td>0</td>\n",
       "      <td>0</td>\n",
       "      <td>0</td>\n",
       "      <td>0</td>\n",
       "      <td>0</td>\n",
       "    </tr>\n",
       "    <tr>\n",
       "      <th>1</th>\n",
       "      <td>2</td>\n",
       "      <td>L47181</td>\n",
       "      <td>L</td>\n",
       "      <td>298.2</td>\n",
       "      <td>308.7</td>\n",
       "      <td>1408</td>\n",
       "      <td>46.3</td>\n",
       "      <td>3</td>\n",
       "      <td>0</td>\n",
       "      <td>0</td>\n",
       "      <td>0</td>\n",
       "      <td>0</td>\n",
       "      <td>0</td>\n",
       "      <td>0</td>\n",
       "    </tr>\n",
       "    <tr>\n",
       "      <th>2</th>\n",
       "      <td>3</td>\n",
       "      <td>L47182</td>\n",
       "      <td>L</td>\n",
       "      <td>298.1</td>\n",
       "      <td>308.5</td>\n",
       "      <td>1498</td>\n",
       "      <td>49.4</td>\n",
       "      <td>5</td>\n",
       "      <td>0</td>\n",
       "      <td>0</td>\n",
       "      <td>0</td>\n",
       "      <td>0</td>\n",
       "      <td>0</td>\n",
       "      <td>0</td>\n",
       "    </tr>\n",
       "    <tr>\n",
       "      <th>3</th>\n",
       "      <td>4</td>\n",
       "      <td>L47183</td>\n",
       "      <td>L</td>\n",
       "      <td>298.2</td>\n",
       "      <td>308.6</td>\n",
       "      <td>1433</td>\n",
       "      <td>39.5</td>\n",
       "      <td>7</td>\n",
       "      <td>0</td>\n",
       "      <td>0</td>\n",
       "      <td>0</td>\n",
       "      <td>0</td>\n",
       "      <td>0</td>\n",
       "      <td>0</td>\n",
       "    </tr>\n",
       "    <tr>\n",
       "      <th>4</th>\n",
       "      <td>5</td>\n",
       "      <td>L47184</td>\n",
       "      <td>L</td>\n",
       "      <td>298.2</td>\n",
       "      <td>308.7</td>\n",
       "      <td>1408</td>\n",
       "      <td>40.0</td>\n",
       "      <td>9</td>\n",
       "      <td>0</td>\n",
       "      <td>0</td>\n",
       "      <td>0</td>\n",
       "      <td>0</td>\n",
       "      <td>0</td>\n",
       "      <td>0</td>\n",
       "    </tr>\n",
       "    <tr>\n",
       "      <th>...</th>\n",
       "      <td>...</td>\n",
       "      <td>...</td>\n",
       "      <td>...</td>\n",
       "      <td>...</td>\n",
       "      <td>...</td>\n",
       "      <td>...</td>\n",
       "      <td>...</td>\n",
       "      <td>...</td>\n",
       "      <td>...</td>\n",
       "      <td>...</td>\n",
       "      <td>...</td>\n",
       "      <td>...</td>\n",
       "      <td>...</td>\n",
       "      <td>...</td>\n",
       "    </tr>\n",
       "    <tr>\n",
       "      <th>9995</th>\n",
       "      <td>9996</td>\n",
       "      <td>M24855</td>\n",
       "      <td>M</td>\n",
       "      <td>298.8</td>\n",
       "      <td>308.4</td>\n",
       "      <td>1604</td>\n",
       "      <td>29.5</td>\n",
       "      <td>14</td>\n",
       "      <td>0</td>\n",
       "      <td>0</td>\n",
       "      <td>0</td>\n",
       "      <td>0</td>\n",
       "      <td>0</td>\n",
       "      <td>0</td>\n",
       "    </tr>\n",
       "    <tr>\n",
       "      <th>9996</th>\n",
       "      <td>9997</td>\n",
       "      <td>H39410</td>\n",
       "      <td>H</td>\n",
       "      <td>298.9</td>\n",
       "      <td>308.4</td>\n",
       "      <td>1632</td>\n",
       "      <td>31.8</td>\n",
       "      <td>17</td>\n",
       "      <td>0</td>\n",
       "      <td>0</td>\n",
       "      <td>0</td>\n",
       "      <td>0</td>\n",
       "      <td>0</td>\n",
       "      <td>0</td>\n",
       "    </tr>\n",
       "    <tr>\n",
       "      <th>9997</th>\n",
       "      <td>9998</td>\n",
       "      <td>M24857</td>\n",
       "      <td>M</td>\n",
       "      <td>299.0</td>\n",
       "      <td>308.6</td>\n",
       "      <td>1645</td>\n",
       "      <td>33.4</td>\n",
       "      <td>22</td>\n",
       "      <td>0</td>\n",
       "      <td>0</td>\n",
       "      <td>0</td>\n",
       "      <td>0</td>\n",
       "      <td>0</td>\n",
       "      <td>0</td>\n",
       "    </tr>\n",
       "    <tr>\n",
       "      <th>9998</th>\n",
       "      <td>9999</td>\n",
       "      <td>H39412</td>\n",
       "      <td>H</td>\n",
       "      <td>299.0</td>\n",
       "      <td>308.7</td>\n",
       "      <td>1408</td>\n",
       "      <td>48.5</td>\n",
       "      <td>25</td>\n",
       "      <td>0</td>\n",
       "      <td>0</td>\n",
       "      <td>0</td>\n",
       "      <td>0</td>\n",
       "      <td>0</td>\n",
       "      <td>0</td>\n",
       "    </tr>\n",
       "    <tr>\n",
       "      <th>9999</th>\n",
       "      <td>10000</td>\n",
       "      <td>M24859</td>\n",
       "      <td>M</td>\n",
       "      <td>299.0</td>\n",
       "      <td>308.7</td>\n",
       "      <td>1500</td>\n",
       "      <td>40.2</td>\n",
       "      <td>30</td>\n",
       "      <td>0</td>\n",
       "      <td>0</td>\n",
       "      <td>0</td>\n",
       "      <td>0</td>\n",
       "      <td>0</td>\n",
       "      <td>0</td>\n",
       "    </tr>\n",
       "  </tbody>\n",
       "</table>\n",
       "<p>10000 rows × 14 columns</p>\n",
       "</div>"
      ],
      "text/plain": [
       "        UDI Product ID Type  Air temperature [K]  Process temperature [K]  \\\n",
       "0         1     M14860    M                298.1                    308.6   \n",
       "1         2     L47181    L                298.2                    308.7   \n",
       "2         3     L47182    L                298.1                    308.5   \n",
       "3         4     L47183    L                298.2                    308.6   \n",
       "4         5     L47184    L                298.2                    308.7   \n",
       "...     ...        ...  ...                  ...                      ...   \n",
       "9995   9996     M24855    M                298.8                    308.4   \n",
       "9996   9997     H39410    H                298.9                    308.4   \n",
       "9997   9998     M24857    M                299.0                    308.6   \n",
       "9998   9999     H39412    H                299.0                    308.7   \n",
       "9999  10000     M24859    M                299.0                    308.7   \n",
       "\n",
       "      Rotational speed [rpm]  Torque [Nm]  Tool wear [min]  Machine failure  \\\n",
       "0                       1551         42.8                0                0   \n",
       "1                       1408         46.3                3                0   \n",
       "2                       1498         49.4                5                0   \n",
       "3                       1433         39.5                7                0   \n",
       "4                       1408         40.0                9                0   \n",
       "...                      ...          ...              ...              ...   \n",
       "9995                    1604         29.5               14                0   \n",
       "9996                    1632         31.8               17                0   \n",
       "9997                    1645         33.4               22                0   \n",
       "9998                    1408         48.5               25                0   \n",
       "9999                    1500         40.2               30                0   \n",
       "\n",
       "      TWF  HDF  PWF  OSF  RNF  \n",
       "0       0    0    0    0    0  \n",
       "1       0    0    0    0    0  \n",
       "2       0    0    0    0    0  \n",
       "3       0    0    0    0    0  \n",
       "4       0    0    0    0    0  \n",
       "...   ...  ...  ...  ...  ...  \n",
       "9995    0    0    0    0    0  \n",
       "9996    0    0    0    0    0  \n",
       "9997    0    0    0    0    0  \n",
       "9998    0    0    0    0    0  \n",
       "9999    0    0    0    0    0  \n",
       "\n",
       "[10000 rows x 14 columns]"
      ]
     },
     "execution_count": 28,
     "metadata": {},
     "output_type": "execute_result"
    }
   ],
   "source": [
    "data"
   ]
  },
  {
   "cell_type": "code",
   "execution_count": 29,
   "id": "6e5c6bd3",
   "metadata": {},
   "outputs": [
    {
     "name": "stdout",
     "output_type": "stream",
     "text": [
      "column: Air temperature [K]  /  p-value: 1.0072499825465616e-223\n",
      "Rejeita H0: Os dados não seguem uma distribuição normal.\n",
      "\n",
      "column: Process temperature [K]  /  p-value: 2.929128551005999e-42\n",
      "Rejeita H0: Os dados não seguem uma distribuição normal.\n",
      "\n",
      "column: Rotational speed [rpm]  /  p-value: 0.0\n",
      "Rejeita H0: Os dados não seguem uma distribuição normal.\n",
      "\n",
      "column: Torque [Nm]  /  p-value: 0.8991516896381265\n",
      "Não rejeita H0: Os dados parecem ser normalmente distribuídos.\n",
      "\n",
      "column: Tool wear [min]  /  p-value: 0.0\n",
      "Rejeita H0: Os dados não seguem uma distribuição normal.\n",
      "\n"
     ]
    }
   ],
   "source": [
    "cols_to_transform = list()\n",
    "\n",
    "for col in data.drop(cols_drop, axis=1).columns:\n",
    "\n",
    "    test = stats.normaltest(data[col])\n",
    "    pvalue = test.pvalue\n",
    "\n",
    "    alpha = 0.05\n",
    "    \n",
    "    if pvalue > alpha:\n",
    "        print(f\"column: {col}  /  p-value: {pvalue}\")\n",
    "        print('Não rejeita H0: Os dados parecem ser normalmente distribuídos.\\n')\n",
    "    else:\n",
    "        cols_to_transform.append(col)\n",
    "        print(f\"column: {col}  /  p-value: {pvalue}\")\n",
    "        print('Rejeita H0: Os dados não seguem uma distribuição normal.\\n')\n"
   ]
  },
  {
   "cell_type": "code",
   "execution_count": 30,
   "id": "1bc71c45",
   "metadata": {},
   "outputs": [],
   "source": [
    "data_transformed = data.copy()\n",
    "\n",
    "for col in cols_to_transform:\n",
    "    data_array = np.array(data[col]).reshape(-1, 1)\n",
    "    transformer = PowerTransformer(method=\"yeo-johnson\")\n",
    "    data_transformed[f\"{col}_t\"] = transformer.fit_transform(data_array).flatten()\n",
    "    \n",
    "    data_transformed.drop(col, axis=1, inplace=True)"
   ]
  },
  {
   "cell_type": "markdown",
   "id": "cf77fe4c",
   "metadata": {},
   "source": [
    "Later, I'll try both ways and understand which fits better. Normalized data or original data"
   ]
  },
  {
   "cell_type": "markdown",
   "id": "6094f570",
   "metadata": {},
   "source": [
    "The structure of the modeling may include a failure prediction before the the failure itself.<br>\n",
    "\n",
    "To do that, we can get the value of failure and offset it to the previous cycles, creating the possibility of early prediction before failure X cycles before real failure.<br>\n",
    "<br>\n",
    "We'll try to make the prediction in a range of 3 cycles before failure"
   ]
  },
  {
   "cell_type": "code",
   "execution_count": 31,
   "id": "7e135baa",
   "metadata": {},
   "outputs": [],
   "source": [
    "data_new = data.drop([col for col in cols_drop if col != \"Machine failure\" and col != \"Type\"], axis=1).copy()"
   ]
  },
  {
   "cell_type": "code",
   "execution_count": 32,
   "id": "6c3b9210",
   "metadata": {},
   "outputs": [],
   "source": [
    "for i in data_new.index:\n",
    "    status = data_new.loc[i, \"Machine failure\"]\n",
    "    if status == 1 and i > 3:\n",
    "        data_new.loc[i-1, \"Machine failure\"] = 1\n",
    "        data_new.loc[i-2, \"Machine failure\"] = 1\n",
    "        data_new.loc[i-3, \"Machine failure\"] = 1    "
   ]
  },
  {
   "cell_type": "code",
   "execution_count": 33,
   "id": "f9dd5ad9",
   "metadata": {},
   "outputs": [
    {
     "data": {
      "text/plain": [
       "Machine failure\n",
       "0    8811\n",
       "1    1189\n",
       "Name: count, dtype: int64"
      ]
     },
     "execution_count": 33,
     "metadata": {},
     "output_type": "execute_result"
    }
   ],
   "source": [
    "data_new[\"Machine failure\"].value_counts()"
   ]
  },
  {
   "cell_type": "code",
   "execution_count": 34,
   "id": "067a5281",
   "metadata": {},
   "outputs": [
    {
     "name": "stdout",
     "output_type": "stream",
     "text": [
      "Difference -86.5%\n",
      "\n",
      "Data is unbalanced. Treatment of balancing is required.\n"
     ]
    }
   ],
   "source": [
    "non_failure = data_new[\"Machine failure\"].value_counts()[0]\n",
    "failure = data_new[\"Machine failure\"].value_counts()[1]\n",
    "\n",
    "diff = (failure / non_failure) -1\n",
    "\n",
    "cutting = 0.2\n",
    "\n",
    "if abs(diff) > cutting:\n",
    "    print(f\"Difference {diff.round(3) * 100}%\\n\")\n",
    "    print(\"Data is unbalanced. Treatment of balancing is required.\")\n",
    "else:\n",
    "    print(f\"Difference {diff.round(3) * 100}\\n\")\n",
    "    print(\"Data is balanced. No treatment needed\")"
   ]
  },
  {
   "cell_type": "code",
   "execution_count": 35,
   "id": "0ebdf003",
   "metadata": {},
   "outputs": [
    {
     "data": {
      "image/png": "[encoded data removed]",
      "text/plain": [
       "<Figure size 600x500 with 1 Axes>"
      ]
     },
     "metadata": {},
     "output_type": "display_data"
    }
   ],
   "source": [
    "fig, ax = plt.subplots(figsize=(6, 5))\n",
    "\n",
    "counting = data_new.groupby([\"Machine failure\"]).agg({\"Type\": \"count\"}).reset_index()\n",
    "\n",
    "bars = ax.bar(height=counting[\"Type\"], x=counting[\"Machine failure\"])\n",
    "ax.bar_label(bars)\n",
    "ax.set_xlabel(\"Labels\")\n",
    "ax.set_ylabel(\"Counting\")\n",
    "ax.set_title(\"Counting values of each label\", loc=\"left\")\n",
    "plt.tight_layout()\n",
    "plt.show();"
   ]
  },
  {
   "cell_type": "markdown",
   "id": "e6d6ec4f",
   "metadata": {},
   "source": [
    "### Balancing data"
   ]
  },
  {
   "cell_type": "code",
   "execution_count": 36,
   "id": "51862d94",
   "metadata": {},
   "outputs": [],
   "source": [
    "X = data_new.drop([\"Machine failure\"], axis=1)\n",
    "y = data_new.loc[:, \"Machine failure\"]"
   ]
  },
  {
   "cell_type": "markdown",
   "id": "eed003db",
   "metadata": {},
   "source": [
    "We've got important variable called Type. Although, this variable is a categorical value.<br>\n",
    "<br>\n",
    "As soons as I may use this variable, I'll convert it to binary values with the One-Hot-Encoding method"
   ]
  },
  {
   "cell_type": "code",
   "execution_count": 37,
   "id": "eae7a006",
   "metadata": {},
   "outputs": [],
   "source": [
    "X = pd.get_dummies(X, columns=[\"Type\"], dtype=int)\n",
    "\n",
    "# I'll not drop de first dummy. I'll keep all of them"
   ]
  },
  {
   "cell_type": "code",
   "execution_count": 38,
   "id": "9ce0ee67",
   "metadata": {},
   "outputs": [],
   "source": [
    "smote = SMOTE()\n",
    "X_b, y_b = smote.fit_resample(X, y)\n",
    "\n",
    "data_balanced = pd.concat([X_b, y_b], axis=1)"
   ]
  },
  {
   "cell_type": "code",
   "execution_count": 39,
   "id": "69babaab",
   "metadata": {},
   "outputs": [
    {
     "data": {
      "text/html": [
       "<div>\n",
       "<style scoped>\n",
       "    .dataframe tbody tr th:only-of-type {\n",
       "        vertical-align: middle;\n",
       "    }\n",
       "\n",
       "    .dataframe tbody tr th {\n",
       "        vertical-align: top;\n",
       "    }\n",
       "\n",
       "    .dataframe thead th {\n",
       "        text-align: right;\n",
       "    }\n",
       "</style>\n",
       "<table border=\"1\" class=\"dataframe\">\n",
       "  <thead>\n",
       "    <tr style=\"text-align: right;\">\n",
       "      <th></th>\n",
       "      <th>Air temperature [K]</th>\n",
       "      <th>Process temperature [K]</th>\n",
       "      <th>Rotational speed [rpm]</th>\n",
       "      <th>Torque [Nm]</th>\n",
       "      <th>Tool wear [min]</th>\n",
       "      <th>Type_H</th>\n",
       "      <th>Type_L</th>\n",
       "      <th>Type_M</th>\n",
       "      <th>Machine failure</th>\n",
       "    </tr>\n",
       "  </thead>\n",
       "  <tbody>\n",
       "    <tr>\n",
       "      <th>0</th>\n",
       "      <td>298.100000</td>\n",
       "      <td>308.600000</td>\n",
       "      <td>1551</td>\n",
       "      <td>42.800000</td>\n",
       "      <td>0</td>\n",
       "      <td>0</td>\n",
       "      <td>0</td>\n",
       "      <td>1</td>\n",
       "      <td>0</td>\n",
       "    </tr>\n",
       "    <tr>\n",
       "      <th>1</th>\n",
       "      <td>298.200000</td>\n",
       "      <td>308.700000</td>\n",
       "      <td>1408</td>\n",
       "      <td>46.300000</td>\n",
       "      <td>3</td>\n",
       "      <td>0</td>\n",
       "      <td>1</td>\n",
       "      <td>0</td>\n",
       "      <td>0</td>\n",
       "    </tr>\n",
       "    <tr>\n",
       "      <th>2</th>\n",
       "      <td>298.100000</td>\n",
       "      <td>308.500000</td>\n",
       "      <td>1498</td>\n",
       "      <td>49.400000</td>\n",
       "      <td>5</td>\n",
       "      <td>0</td>\n",
       "      <td>1</td>\n",
       "      <td>0</td>\n",
       "      <td>0</td>\n",
       "    </tr>\n",
       "    <tr>\n",
       "      <th>3</th>\n",
       "      <td>298.200000</td>\n",
       "      <td>308.600000</td>\n",
       "      <td>1433</td>\n",
       "      <td>39.500000</td>\n",
       "      <td>7</td>\n",
       "      <td>0</td>\n",
       "      <td>1</td>\n",
       "      <td>0</td>\n",
       "      <td>0</td>\n",
       "    </tr>\n",
       "    <tr>\n",
       "      <th>4</th>\n",
       "      <td>298.200000</td>\n",
       "      <td>308.700000</td>\n",
       "      <td>1408</td>\n",
       "      <td>40.000000</td>\n",
       "      <td>9</td>\n",
       "      <td>0</td>\n",
       "      <td>1</td>\n",
       "      <td>0</td>\n",
       "      <td>0</td>\n",
       "    </tr>\n",
       "    <tr>\n",
       "      <th>...</th>\n",
       "      <td>...</td>\n",
       "      <td>...</td>\n",
       "      <td>...</td>\n",
       "      <td>...</td>\n",
       "      <td>...</td>\n",
       "      <td>...</td>\n",
       "      <td>...</td>\n",
       "      <td>...</td>\n",
       "      <td>...</td>\n",
       "    </tr>\n",
       "    <tr>\n",
       "      <th>17617</th>\n",
       "      <td>303.008211</td>\n",
       "      <td>311.232457</td>\n",
       "      <td>1335</td>\n",
       "      <td>52.584413</td>\n",
       "      <td>172</td>\n",
       "      <td>0</td>\n",
       "      <td>0</td>\n",
       "      <td>0</td>\n",
       "      <td>1</td>\n",
       "    </tr>\n",
       "    <tr>\n",
       "      <th>17618</th>\n",
       "      <td>300.323094</td>\n",
       "      <td>310.824924</td>\n",
       "      <td>1417</td>\n",
       "      <td>47.048628</td>\n",
       "      <td>194</td>\n",
       "      <td>1</td>\n",
       "      <td>0</td>\n",
       "      <td>0</td>\n",
       "      <td>1</td>\n",
       "    </tr>\n",
       "    <tr>\n",
       "      <th>17619</th>\n",
       "      <td>301.734533</td>\n",
       "      <td>310.509095</td>\n",
       "      <td>1621</td>\n",
       "      <td>33.410943</td>\n",
       "      <td>96</td>\n",
       "      <td>0</td>\n",
       "      <td>0</td>\n",
       "      <td>1</td>\n",
       "      <td>1</td>\n",
       "    </tr>\n",
       "    <tr>\n",
       "      <th>17620</th>\n",
       "      <td>300.220862</td>\n",
       "      <td>310.571767</td>\n",
       "      <td>1685</td>\n",
       "      <td>28.779138</td>\n",
       "      <td>210</td>\n",
       "      <td>0</td>\n",
       "      <td>0</td>\n",
       "      <td>0</td>\n",
       "      <td>1</td>\n",
       "    </tr>\n",
       "    <tr>\n",
       "      <th>17621</th>\n",
       "      <td>299.271311</td>\n",
       "      <td>309.808359</td>\n",
       "      <td>2574</td>\n",
       "      <td>12.624303</td>\n",
       "      <td>89</td>\n",
       "      <td>0</td>\n",
       "      <td>1</td>\n",
       "      <td>0</td>\n",
       "      <td>1</td>\n",
       "    </tr>\n",
       "  </tbody>\n",
       "</table>\n",
       "<p>17622 rows × 9 columns</p>\n",
       "</div>"
      ],
      "text/plain": [
       "       Air temperature [K]  Process temperature [K]  Rotational speed [rpm]  \\\n",
       "0               298.100000               308.600000                    1551   \n",
       "1               298.200000               308.700000                    1408   \n",
       "2               298.100000               308.500000                    1498   \n",
       "3               298.200000               308.600000                    1433   \n",
       "4               298.200000               308.700000                    1408   \n",
       "...                    ...                      ...                     ...   \n",
       "17617           303.008211               311.232457                    1335   \n",
       "17618           300.323094               310.824924                    1417   \n",
       "17619           301.734533               310.509095                    1621   \n",
       "17620           300.220862               310.571767                    1685   \n",
       "17621           299.271311               309.808359                    2574   \n",
       "\n",
       "       Torque [Nm]  Tool wear [min]  Type_H  Type_L  Type_M  Machine failure  \n",
       "0        42.800000                0       0       0       1                0  \n",
       "1        46.300000                3       0       1       0                0  \n",
       "2        49.400000                5       0       1       0                0  \n",
       "3        39.500000                7       0       1       0                0  \n",
       "4        40.000000                9       0       1       0                0  \n",
       "...            ...              ...     ...     ...     ...              ...  \n",
       "17617    52.584413              172       0       0       0                1  \n",
       "17618    47.048628              194       1       0       0                1  \n",
       "17619    33.410943               96       0       0       1                1  \n",
       "17620    28.779138              210       0       0       0                1  \n",
       "17621    12.624303               89       0       1       0                1  \n",
       "\n",
       "[17622 rows x 9 columns]"
      ]
     },
     "execution_count": 39,
     "metadata": {},
     "output_type": "execute_result"
    }
   ],
   "source": [
    "data_balanced"
   ]
  },
  {
   "cell_type": "code",
   "execution_count": 40,
   "id": "95dbb9b9",
   "metadata": {},
   "outputs": [
    {
     "data": {
      "image/png": "[encoded data removed]",
      "text/plain": [
       "<Figure size 600x500 with 1 Axes>"
      ]
     },
     "metadata": {},
     "output_type": "display_data"
    }
   ],
   "source": [
    "fig, ax = plt.subplots(figsize=(6, 5))\n",
    "\n",
    "counting = data_balanced.groupby([\"Machine failure\"]).agg({\"Type_H\": \"count\"}).reset_index()\n",
    "\n",
    "bars = ax.bar(height=counting[\"Type_H\"], x=counting[\"Machine failure\"])\n",
    "ax.bar_label(bars)\n",
    "ax.set_xlabel(\"Labels\")\n",
    "ax.set_ylabel(\"Counting\")\n",
    "ax.set_title(\"Counting values of each label\", loc=\"left\")\n",
    "plt.tight_layout()\n",
    "plt.show();"
   ]
  },
  {
   "cell_type": "code",
   "execution_count": 41,
   "id": "3529d267",
   "metadata": {},
   "outputs": [
    {
     "data": {
      "text/html": [
       "<div>\n",
       "<style scoped>\n",
       "    .dataframe tbody tr th:only-of-type {\n",
       "        vertical-align: middle;\n",
       "    }\n",
       "\n",
       "    .dataframe tbody tr th {\n",
       "        vertical-align: top;\n",
       "    }\n",
       "\n",
       "    .dataframe thead th {\n",
       "        text-align: right;\n",
       "    }\n",
       "</style>\n",
       "<table border=\"1\" class=\"dataframe\">\n",
       "  <thead>\n",
       "    <tr style=\"text-align: right;\">\n",
       "      <th></th>\n",
       "      <th>Air temperature [K]</th>\n",
       "      <th>Process temperature [K]</th>\n",
       "      <th>Rotational speed [rpm]</th>\n",
       "      <th>Torque [Nm]</th>\n",
       "      <th>Tool wear [min]</th>\n",
       "      <th>Type_H</th>\n",
       "      <th>Type_L</th>\n",
       "      <th>Type_M</th>\n",
       "      <th>Machine failure</th>\n",
       "    </tr>\n",
       "  </thead>\n",
       "  <tbody>\n",
       "    <tr>\n",
       "      <th>Air temperature [K]</th>\n",
       "      <td>1.000000</td>\n",
       "      <td>0.861004</td>\n",
       "      <td>0.003576</td>\n",
       "      <td>0.003831</td>\n",
       "      <td>-0.053451</td>\n",
       "      <td>-0.041661</td>\n",
       "      <td>-0.041413</td>\n",
       "      <td>-0.050491</td>\n",
       "      <td>0.241153</td>\n",
       "    </tr>\n",
       "    <tr>\n",
       "      <th>Process temperature [K]</th>\n",
       "      <td>0.861004</td>\n",
       "      <td>1.000000</td>\n",
       "      <td>0.018530</td>\n",
       "      <td>-0.012508</td>\n",
       "      <td>-0.008868</td>\n",
       "      <td>-0.022664</td>\n",
       "      <td>-0.025341</td>\n",
       "      <td>-0.015011</td>\n",
       "      <td>0.107309</td>\n",
       "    </tr>\n",
       "    <tr>\n",
       "      <th>Rotational speed [rpm]</th>\n",
       "      <td>0.003576</td>\n",
       "      <td>0.018530</td>\n",
       "      <td>1.000000</td>\n",
       "      <td>-0.862153</td>\n",
       "      <td>-0.031430</td>\n",
       "      <td>-0.002948</td>\n",
       "      <td>-0.007022</td>\n",
       "      <td>0.018452</td>\n",
       "      <td>0.000151</td>\n",
       "    </tr>\n",
       "    <tr>\n",
       "      <th>Torque [Nm]</th>\n",
       "      <td>0.003831</td>\n",
       "      <td>-0.012508</td>\n",
       "      <td>-0.862153</td>\n",
       "      <td>1.000000</td>\n",
       "      <td>0.018996</td>\n",
       "      <td>-0.018533</td>\n",
       "      <td>0.012010</td>\n",
       "      <td>-0.032516</td>\n",
       "      <td>0.087964</td>\n",
       "    </tr>\n",
       "    <tr>\n",
       "      <th>Tool wear [min]</th>\n",
       "      <td>-0.053451</td>\n",
       "      <td>-0.008868</td>\n",
       "      <td>-0.031430</td>\n",
       "      <td>0.018996</td>\n",
       "      <td>1.000000</td>\n",
       "      <td>-0.053071</td>\n",
       "      <td>-0.025118</td>\n",
       "      <td>-0.069227</td>\n",
       "      <td>0.262231</td>\n",
       "    </tr>\n",
       "    <tr>\n",
       "      <th>Type_H</th>\n",
       "      <td>-0.041661</td>\n",
       "      <td>-0.022664</td>\n",
       "      <td>-0.002948</td>\n",
       "      <td>-0.018533</td>\n",
       "      <td>-0.053071</td>\n",
       "      <td>1.000000</td>\n",
       "      <td>-0.267365</td>\n",
       "      <td>-0.134916</td>\n",
       "      <td>-0.132514</td>\n",
       "    </tr>\n",
       "    <tr>\n",
       "      <th>Type_L</th>\n",
       "      <td>-0.041413</td>\n",
       "      <td>-0.025341</td>\n",
       "      <td>-0.007022</td>\n",
       "      <td>0.012010</td>\n",
       "      <td>-0.025118</td>\n",
       "      <td>-0.267365</td>\n",
       "      <td>1.000000</td>\n",
       "      <td>-0.510027</td>\n",
       "      <td>-0.190446</td>\n",
       "    </tr>\n",
       "    <tr>\n",
       "      <th>Type_M</th>\n",
       "      <td>-0.050491</td>\n",
       "      <td>-0.015011</td>\n",
       "      <td>0.018452</td>\n",
       "      <td>-0.032516</td>\n",
       "      <td>-0.069227</td>\n",
       "      <td>-0.134916</td>\n",
       "      <td>-0.510027</td>\n",
       "      <td>1.000000</td>\n",
       "      <td>-0.244022</td>\n",
       "    </tr>\n",
       "    <tr>\n",
       "      <th>Machine failure</th>\n",
       "      <td>0.241153</td>\n",
       "      <td>0.107309</td>\n",
       "      <td>0.000151</td>\n",
       "      <td>0.087964</td>\n",
       "      <td>0.262231</td>\n",
       "      <td>-0.132514</td>\n",
       "      <td>-0.190446</td>\n",
       "      <td>-0.244022</td>\n",
       "      <td>1.000000</td>\n",
       "    </tr>\n",
       "  </tbody>\n",
       "</table>\n",
       "</div>"
      ],
      "text/plain": [
       "                         Air temperature [K]  Process temperature [K]  \\\n",
       "Air temperature [K]                 1.000000                 0.861004   \n",
       "Process temperature [K]             0.861004                 1.000000   \n",
       "Rotational speed [rpm]              0.003576                 0.018530   \n",
       "Torque [Nm]                         0.003831                -0.012508   \n",
       "Tool wear [min]                    -0.053451                -0.008868   \n",
       "Type_H                             -0.041661                -0.022664   \n",
       "Type_L                             -0.041413                -0.025341   \n",
       "Type_M                             -0.050491                -0.015011   \n",
       "Machine failure                     0.241153                 0.107309   \n",
       "\n",
       "                         Rotational speed [rpm]  Torque [Nm]  Tool wear [min]  \\\n",
       "Air temperature [K]                    0.003576     0.003831        -0.053451   \n",
       "Process temperature [K]                0.018530    -0.012508        -0.008868   \n",
       "Rotational speed [rpm]                 1.000000    -0.862153        -0.031430   \n",
       "Torque [Nm]                           -0.862153     1.000000         0.018996   \n",
       "Tool wear [min]                       -0.031430     0.018996         1.000000   \n",
       "Type_H                                -0.002948    -0.018533        -0.053071   \n",
       "Type_L                                -0.007022     0.012010        -0.025118   \n",
       "Type_M                                 0.018452    -0.032516        -0.069227   \n",
       "Machine failure                        0.000151     0.087964         0.262231   \n",
       "\n",
       "                           Type_H    Type_L    Type_M  Machine failure  \n",
       "Air temperature [K]     -0.041661 -0.041413 -0.050491         0.241153  \n",
       "Process temperature [K] -0.022664 -0.025341 -0.015011         0.107309  \n",
       "Rotational speed [rpm]  -0.002948 -0.007022  0.018452         0.000151  \n",
       "Torque [Nm]             -0.018533  0.012010 -0.032516         0.087964  \n",
       "Tool wear [min]         -0.053071 -0.025118 -0.069227         0.262231  \n",
       "Type_H                   1.000000 -0.267365 -0.134916        -0.132514  \n",
       "Type_L                  -0.267365  1.000000 -0.510027        -0.190446  \n",
       "Type_M                  -0.134916 -0.510027  1.000000        -0.244022  \n",
       "Machine failure         -0.132514 -0.190446 -0.244022         1.000000  "
      ]
     },
     "execution_count": 41,
     "metadata": {},
     "output_type": "execute_result"
    }
   ],
   "source": [
    "data_balanced.corr(method=\"pearson\")"
   ]
  },
  {
   "cell_type": "code",
   "execution_count": 42,
   "id": "1c2160a0",
   "metadata": {},
   "outputs": [
    {
     "data": {
      "text/html": [
       "<div>\n",
       "<style scoped>\n",
       "    .dataframe tbody tr th:only-of-type {\n",
       "        vertical-align: middle;\n",
       "    }\n",
       "\n",
       "    .dataframe tbody tr th {\n",
       "        vertical-align: top;\n",
       "    }\n",
       "\n",
       "    .dataframe thead th {\n",
       "        text-align: right;\n",
       "    }\n",
       "</style>\n",
       "<table border=\"1\" class=\"dataframe\">\n",
       "  <thead>\n",
       "    <tr style=\"text-align: right;\">\n",
       "      <th></th>\n",
       "      <th>Air temperature [K]</th>\n",
       "      <th>Process temperature [K]</th>\n",
       "      <th>Rotational speed [rpm]</th>\n",
       "      <th>Torque [Nm]</th>\n",
       "      <th>Tool wear [min]</th>\n",
       "      <th>Type_H</th>\n",
       "      <th>Type_L</th>\n",
       "      <th>Type_M</th>\n",
       "      <th>Machine failure</th>\n",
       "    </tr>\n",
       "  </thead>\n",
       "  <tbody>\n",
       "    <tr>\n",
       "      <th>Air temperature [K]</th>\n",
       "      <td>1.000000</td>\n",
       "      <td>0.654576</td>\n",
       "      <td>-0.007448</td>\n",
       "      <td>0.005880</td>\n",
       "      <td>-0.040549</td>\n",
       "      <td>-0.034652</td>\n",
       "      <td>-0.034250</td>\n",
       "      <td>-0.042231</td>\n",
       "      <td>0.202777</td>\n",
       "    </tr>\n",
       "    <tr>\n",
       "      <th>Process temperature [K]</th>\n",
       "      <td>0.654576</td>\n",
       "      <td>1.000000</td>\n",
       "      <td>0.008119</td>\n",
       "      <td>-0.006954</td>\n",
       "      <td>-0.009101</td>\n",
       "      <td>-0.019351</td>\n",
       "      <td>-0.021663</td>\n",
       "      <td>-0.012470</td>\n",
       "      <td>0.091866</td>\n",
       "    </tr>\n",
       "    <tr>\n",
       "      <th>Rotational speed [rpm]</th>\n",
       "      <td>-0.007448</td>\n",
       "      <td>0.008119</td>\n",
       "      <td>1.000000</td>\n",
       "      <td>-0.786092</td>\n",
       "      <td>-0.014664</td>\n",
       "      <td>0.013894</td>\n",
       "      <td>-0.004128</td>\n",
       "      <td>0.022179</td>\n",
       "      <td>-0.069171</td>\n",
       "    </tr>\n",
       "    <tr>\n",
       "      <th>Torque [Nm]</th>\n",
       "      <td>0.005880</td>\n",
       "      <td>-0.006954</td>\n",
       "      <td>-0.786092</td>\n",
       "      <td>1.000000</td>\n",
       "      <td>0.012620</td>\n",
       "      <td>-0.014676</td>\n",
       "      <td>0.008630</td>\n",
       "      <td>-0.023653</td>\n",
       "      <td>0.071029</td>\n",
       "    </tr>\n",
       "    <tr>\n",
       "      <th>Tool wear [min]</th>\n",
       "      <td>-0.040549</td>\n",
       "      <td>-0.009101</td>\n",
       "      <td>-0.014664</td>\n",
       "      <td>0.012620</td>\n",
       "      <td>1.000000</td>\n",
       "      <td>-0.045688</td>\n",
       "      <td>-0.022902</td>\n",
       "      <td>-0.060347</td>\n",
       "      <td>0.228948</td>\n",
       "    </tr>\n",
       "    <tr>\n",
       "      <th>Type_H</th>\n",
       "      <td>-0.034652</td>\n",
       "      <td>-0.019351</td>\n",
       "      <td>0.013894</td>\n",
       "      <td>-0.014676</td>\n",
       "      <td>-0.045688</td>\n",
       "      <td>1.000000</td>\n",
       "      <td>-0.267365</td>\n",
       "      <td>-0.134916</td>\n",
       "      <td>-0.132514</td>\n",
       "    </tr>\n",
       "    <tr>\n",
       "      <th>Type_L</th>\n",
       "      <td>-0.034250</td>\n",
       "      <td>-0.021663</td>\n",
       "      <td>-0.004128</td>\n",
       "      <td>0.008630</td>\n",
       "      <td>-0.022902</td>\n",
       "      <td>-0.267365</td>\n",
       "      <td>1.000000</td>\n",
       "      <td>-0.510027</td>\n",
       "      <td>-0.190446</td>\n",
       "    </tr>\n",
       "    <tr>\n",
       "      <th>Type_M</th>\n",
       "      <td>-0.042231</td>\n",
       "      <td>-0.012470</td>\n",
       "      <td>0.022179</td>\n",
       "      <td>-0.023653</td>\n",
       "      <td>-0.060347</td>\n",
       "      <td>-0.134916</td>\n",
       "      <td>-0.510027</td>\n",
       "      <td>1.000000</td>\n",
       "      <td>-0.244022</td>\n",
       "    </tr>\n",
       "    <tr>\n",
       "      <th>Machine failure</th>\n",
       "      <td>0.202777</td>\n",
       "      <td>0.091866</td>\n",
       "      <td>-0.069171</td>\n",
       "      <td>0.071029</td>\n",
       "      <td>0.228948</td>\n",
       "      <td>-0.132514</td>\n",
       "      <td>-0.190446</td>\n",
       "      <td>-0.244022</td>\n",
       "      <td>1.000000</td>\n",
       "    </tr>\n",
       "  </tbody>\n",
       "</table>\n",
       "</div>"
      ],
      "text/plain": [
       "                         Air temperature [K]  Process temperature [K]  \\\n",
       "Air temperature [K]                 1.000000                 0.654576   \n",
       "Process temperature [K]             0.654576                 1.000000   \n",
       "Rotational speed [rpm]             -0.007448                 0.008119   \n",
       "Torque [Nm]                         0.005880                -0.006954   \n",
       "Tool wear [min]                    -0.040549                -0.009101   \n",
       "Type_H                             -0.034652                -0.019351   \n",
       "Type_L                             -0.034250                -0.021663   \n",
       "Type_M                             -0.042231                -0.012470   \n",
       "Machine failure                     0.202777                 0.091866   \n",
       "\n",
       "                         Rotational speed [rpm]  Torque [Nm]  Tool wear [min]  \\\n",
       "Air temperature [K]                   -0.007448     0.005880        -0.040549   \n",
       "Process temperature [K]                0.008119    -0.006954        -0.009101   \n",
       "Rotational speed [rpm]                 1.000000    -0.786092        -0.014664   \n",
       "Torque [Nm]                           -0.786092     1.000000         0.012620   \n",
       "Tool wear [min]                       -0.014664     0.012620         1.000000   \n",
       "Type_H                                 0.013894    -0.014676        -0.045688   \n",
       "Type_L                                -0.004128     0.008630        -0.022902   \n",
       "Type_M                                 0.022179    -0.023653        -0.060347   \n",
       "Machine failure                       -0.069171     0.071029         0.228948   \n",
       "\n",
       "                           Type_H    Type_L    Type_M  Machine failure  \n",
       "Air temperature [K]     -0.034652 -0.034250 -0.042231         0.202777  \n",
       "Process temperature [K] -0.019351 -0.021663 -0.012470         0.091866  \n",
       "Rotational speed [rpm]   0.013894 -0.004128  0.022179        -0.069171  \n",
       "Torque [Nm]             -0.014676  0.008630 -0.023653         0.071029  \n",
       "Tool wear [min]         -0.045688 -0.022902 -0.060347         0.228948  \n",
       "Type_H                   1.000000 -0.267365 -0.134916        -0.132514  \n",
       "Type_L                  -0.267365  1.000000 -0.510027        -0.190446  \n",
       "Type_M                  -0.134916 -0.510027  1.000000        -0.244022  \n",
       "Machine failure         -0.132514 -0.190446 -0.244022         1.000000  "
      ]
     },
     "execution_count": 42,
     "metadata": {},
     "output_type": "execute_result"
    }
   ],
   "source": [
    "data_balanced.corr(method=\"kendall\")"
   ]
  },
  {
   "cell_type": "code",
   "execution_count": 43,
   "id": "6388bae8",
   "metadata": {},
   "outputs": [
    {
     "name": "stderr",
     "output_type": "stream",
     "text": [
      "c:\\Users\\Vinicius\\AppData\\Local\\Programs\\Python\\Python312\\Lib\\site-packages\\sklearn\\utils\\validation.py:1408: DataConversionWarning: A column-vector y was passed when a 1d array was expected. Please change the shape of y to (n_samples, ), for example using ravel().\n",
      "  y = column_or_1d(y, warn=True)\n",
      "c:\\Users\\Vinicius\\AppData\\Local\\Programs\\Python\\Python312\\Lib\\site-packages\\sklearn\\utils\\validation.py:1408: DataConversionWarning: A column-vector y was passed when a 1d array was expected. Please change the shape of y to (n_samples, ), for example using ravel().\n",
      "  y = column_or_1d(y, warn=True)\n",
      "c:\\Users\\Vinicius\\AppData\\Local\\Programs\\Python\\Python312\\Lib\\site-packages\\sklearn\\utils\\validation.py:1408: DataConversionWarning: A column-vector y was passed when a 1d array was expected. Please change the shape of y to (n_samples, ), for example using ravel().\n",
      "  y = column_or_1d(y, warn=True)\n",
      "c:\\Users\\Vinicius\\AppData\\Local\\Programs\\Python\\Python312\\Lib\\site-packages\\sklearn\\utils\\validation.py:1408: DataConversionWarning: A column-vector y was passed when a 1d array was expected. Please change the shape of y to (n_samples, ), for example using ravel().\n",
      "  y = column_or_1d(y, warn=True)\n",
      "c:\\Users\\Vinicius\\AppData\\Local\\Programs\\Python\\Python312\\Lib\\site-packages\\sklearn\\utils\\validation.py:1408: DataConversionWarning: A column-vector y was passed when a 1d array was expected. Please change the shape of y to (n_samples, ), for example using ravel().\n",
      "  y = column_or_1d(y, warn=True)\n",
      "c:\\Users\\Vinicius\\AppData\\Local\\Programs\\Python\\Python312\\Lib\\site-packages\\sklearn\\utils\\validation.py:1408: DataConversionWarning: A column-vector y was passed when a 1d array was expected. Please change the shape of y to (n_samples, ), for example using ravel().\n",
      "  y = column_or_1d(y, warn=True)\n",
      "c:\\Users\\Vinicius\\AppData\\Local\\Programs\\Python\\Python312\\Lib\\site-packages\\sklearn\\utils\\validation.py:1408: DataConversionWarning: A column-vector y was passed when a 1d array was expected. Please change the shape of y to (n_samples, ), for example using ravel().\n",
      "  y = column_or_1d(y, warn=True)\n",
      "c:\\Users\\Vinicius\\AppData\\Local\\Programs\\Python\\Python312\\Lib\\site-packages\\sklearn\\utils\\validation.py:1408: DataConversionWarning: A column-vector y was passed when a 1d array was expected. Please change the shape of y to (n_samples, ), for example using ravel().\n",
      "  y = column_or_1d(y, warn=True)\n",
      "c:\\Users\\Vinicius\\AppData\\Local\\Programs\\Python\\Python312\\Lib\\site-packages\\sklearn\\utils\\validation.py:1408: DataConversionWarning: A column-vector y was passed when a 1d array was expected. Please change the shape of y to (n_samples, ), for example using ravel().\n",
      "  y = column_or_1d(y, warn=True)\n"
     ]
    }
   ],
   "source": [
    "non_linear_relation = dict()\n",
    "for col in data_balanced.columns:\n",
    "    x1 = np.array(data_balanced[\"Machine failure\"]).reshape(-1, 1)\n",
    "    x2 = np.array(data_balanced[col]).reshape(-1, 1)\n",
    "\n",
    "    coef = mutual_info_regression(x1, x2)\n",
    "\n",
    "    non_linear_relation[col] = coef"
   ]
  },
  {
   "cell_type": "code",
   "execution_count": 44,
   "id": "c4728f71",
   "metadata": {},
   "outputs": [
    {
     "data": {
      "text/plain": [
       "{'Air temperature [K]': array([0.45796388]),\n",
       " 'Process temperature [K]': array([0.44946027]),\n",
       " 'Rotational speed [rpm]': array([0.03442488]),\n",
       " 'Torque [Nm]': array([0.38002083]),\n",
       " 'Tool wear [min]': array([0.08293224]),\n",
       " 'Type_H': array([0.017909]),\n",
       " 'Type_L': array([0.01994182]),\n",
       " 'Type_M': array([0.03315775]),\n",
       " 'Machine failure': array([0.67882943])}"
      ]
     },
     "execution_count": 44,
     "metadata": {},
     "output_type": "execute_result"
    }
   ],
   "source": [
    "non_linear_relation"
   ]
  },
  {
   "cell_type": "markdown",
   "id": "96d25ec9",
   "metadata": {},
   "source": [
    "There is a non linear relation between the variables with the Failures."
   ]
  },
  {
   "cell_type": "markdown",
   "id": "c96ba09d",
   "metadata": {},
   "source": [
    "Does the data have multicolinearity? Let's evaluate"
   ]
  },
  {
   "cell_type": "code",
   "execution_count": 45,
   "id": "ca9adc15",
   "metadata": {},
   "outputs": [
    {
     "data": {
      "text/html": [
       "<div>\n",
       "<style scoped>\n",
       "    .dataframe tbody tr th:only-of-type {\n",
       "        vertical-align: middle;\n",
       "    }\n",
       "\n",
       "    .dataframe tbody tr th {\n",
       "        vertical-align: top;\n",
       "    }\n",
       "\n",
       "    .dataframe thead th {\n",
       "        text-align: right;\n",
       "    }\n",
       "</style>\n",
       "<table border=\"1\" class=\"dataframe\">\n",
       "  <thead>\n",
       "    <tr style=\"text-align: right;\">\n",
       "      <th></th>\n",
       "      <th>features</th>\n",
       "      <th>VIF</th>\n",
       "    </tr>\n",
       "  </thead>\n",
       "  <tbody>\n",
       "    <tr>\n",
       "      <th>0</th>\n",
       "      <td>Air temperature [K]</td>\n",
       "      <td>86114.953278</td>\n",
       "    </tr>\n",
       "    <tr>\n",
       "      <th>1</th>\n",
       "      <td>Process temperature [K]</td>\n",
       "      <td>87282.942663</td>\n",
       "    </tr>\n",
       "    <tr>\n",
       "      <th>2</th>\n",
       "      <td>Rotational speed [rpm]</td>\n",
       "      <td>213.681564</td>\n",
       "    </tr>\n",
       "    <tr>\n",
       "      <th>3</th>\n",
       "      <td>Torque [Nm]</td>\n",
       "      <td>56.081515</td>\n",
       "    </tr>\n",
       "    <tr>\n",
       "      <th>4</th>\n",
       "      <td>Tool wear [min]</td>\n",
       "      <td>4.260502</td>\n",
       "    </tr>\n",
       "    <tr>\n",
       "      <th>5</th>\n",
       "      <td>Type_H</td>\n",
       "      <td>1.326387</td>\n",
       "    </tr>\n",
       "    <tr>\n",
       "      <th>6</th>\n",
       "      <td>Type_L</td>\n",
       "      <td>3.322792</td>\n",
       "    </tr>\n",
       "    <tr>\n",
       "      <th>7</th>\n",
       "      <td>Type_M</td>\n",
       "      <td>1.985047</td>\n",
       "    </tr>\n",
       "  </tbody>\n",
       "</table>\n",
       "</div>"
      ],
      "text/plain": [
       "                  features           VIF\n",
       "0      Air temperature [K]  86114.953278\n",
       "1  Process temperature [K]  87282.942663\n",
       "2   Rotational speed [rpm]    213.681564\n",
       "3              Torque [Nm]     56.081515\n",
       "4          Tool wear [min]      4.260502\n",
       "5                   Type_H      1.326387\n",
       "6                   Type_L      3.322792\n",
       "7                   Type_M      1.985047"
      ]
     },
     "execution_count": 45,
     "metadata": {},
     "output_type": "execute_result"
    }
   ],
   "source": [
    "vif_data = pd.DataFrame()\n",
    "X_vif = data_balanced.drop([\"Machine failure\"], axis=1)\n",
    "vif_data[\"features\"] = X_vif.columns\n",
    "\n",
    "vif_data[\"VIF\"] = [variance_inflation_factor(X_vif.values, i) for i in range(len(X_vif.columns))]\n",
    "\n",
    "vif_data"
   ]
  },
  {
   "cell_type": "markdown",
   "id": "7fed7595",
   "metadata": {},
   "source": [
    "- 'Air Temperature [K]' and 'Process Temperature [K]' contains a huge multicolinearity. Depending on how the model behives, We can drop it.<br>\n",
    "- 'Rotational speed [rpm]' and 'Torque [Nm]' also contains multicolinearity. Which make sense because rotary machinery have a Torque and Rotational Speed.<br>\n",
    "- All other variabels satisfy the Variation inflation Factor Limits\n"
   ]
  },
  {
   "cell_type": "markdown",
   "id": "a072cebd",
   "metadata": {},
   "source": [
    "In this case, we can Drop one of the columns between: 'Air Temperature [K]' and 'Process Temperature [K]', and also drop one between 'Rotational speed [rpm]' and 'Torque [Nm]'.<br>\n",
    "It'll all depend on how does the model behive to the modeling, and if the column is statistically significant."
   ]
  },
  {
   "cell_type": "markdown",
   "id": "96ebe84e",
   "metadata": {},
   "source": [
    "### Separate Original data into Train and Test"
   ]
  },
  {
   "cell_type": "code",
   "execution_count": 46,
   "id": "3cae664d",
   "metadata": {},
   "outputs": [],
   "source": [
    "X_b.columns = [col.replace(\"[K]\", \"\").replace(\"[rpm]\", \"\").replace(\"[Nm]\", \"\").replace(\"[min]\", \"\") for col in X_b.columns]"
   ]
  },
  {
   "cell_type": "code",
   "execution_count": 47,
   "id": "a19e3362",
   "metadata": {},
   "outputs": [],
   "source": [
    "X_train, X_test, y_train, y_test = train_test_split(\n",
    "    X_b, y_b, test_size=0.2, shuffle=True\n",
    ")"
   ]
  },
  {
   "cell_type": "markdown",
   "id": "98726216",
   "metadata": {},
   "source": [
    "### Model experiment - Original Data"
   ]
  },
  {
   "cell_type": "code",
   "execution_count": 37,
   "id": "0ad51147",
   "metadata": {},
   "outputs": [],
   "source": [
    "models = {\n",
    "    \"RandomForestClassifier\": RandomForestClassifier(),\n",
    "    \"XGBoostClassifier\": XGBClassifier(),\n",
    "    \"SVC\": SVC(),\n",
    "    \"GaussianNB\": GaussianNB(),\n",
    "    \"DecisionTreeClassifier\": DecisionTreeClassifier(),\n",
    "    \"HistGradientBoostingClassifier\": HistGradientBoostingClassifier(),\n",
    "}"
   ]
  },
  {
   "cell_type": "code",
   "execution_count": 38,
   "id": "2ead6120",
   "metadata": {},
   "outputs": [],
   "source": [
    "parameters = {\n",
    "    \"RandomForestClassifier\": {\n",
    "        \"n_estimators\": [100, 150, 180, 200],\n",
    "        # \"criterion\": [\"gini\", \"entropy\", \"log_loss\"],\n",
    "        # \"max_depth\": [None, 1, 3, 5, 7, 9],\n",
    "        \"min_samples_split\": [2, 5, 8, 11],\n",
    "        # \"max_features\": [\"sqrt\", \"log2\", None],\n",
    "        \"min_samples_leaf\": [2, 5, 9]\n",
    "    },\n",
    "    \"XGBoostClassifier\": {\n",
    "        \"n_estimators\": [100, 150, 180, 200],\n",
    "        # \"learning_rate\": [0.3, 0.1, 0.01, 0.005],\n",
    "        \"max_depth\": [6, 12, 24, 44],\n",
    "    },\n",
    "    \"SVC\": {\n",
    "        \"C\": [1.0, 1.5, 2.0],\n",
    "        # \"kernel\": [\"linear\", \"poly\", \"rbf\", \"sigmoid\", \"precomputed\"],\n",
    "        # \"degree\": [3, 5, 7, 9],\n",
    "        \"gamma\": [\"scale\", \"auto\"],\n",
    "    },\n",
    "    \"GaussianNB\": {\n",
    "        \"var_smoothing\": [1e-9, 1e-6, 1e-3, 1]\n",
    "    },\n",
    "    \"DecisionTreeClassifier\": {\n",
    "        # \"criterion\": [\"gini\", \"entropy\", \"log_loss\"],\n",
    "        # \"splitter\": [\"best\", \"random\"],\n",
    "        # \"max_depth\": [None, 5, 10, 15, 20, 25],\n",
    "        \"min_samples_split\": [2, 5, 8, 11, 14],\n",
    "        \"min_samples_leaf\": [1, 3, 5, 7, 9, 11],\n",
    "    },\n",
    "    \"HistGradientBoostingClassifier\": {\n",
    "        # \"learning_rate\": [0.1, 0.01, 0.001],\n",
    "        \"max_iter\": [100, 150, 200, 250],\n",
    "        \"max_depth\": [None, 5, 10, 15, 20, 25],\n",
    "    },\n",
    "}\n",
    "\n",
    "# I'm leaving some of the parameters commented because of the training time.\n",
    "# The training was taking hours."
   ]
  },
  {
   "cell_type": "code",
   "execution_count": 39,
   "id": "93d68c1b",
   "metadata": {},
   "outputs": [],
   "source": [
    "def model_evaluation(y_true, y_pred):\n",
    "    accuracy_score_ = accuracy_score(y_true, y_pred)\n",
    "    f1_score_ = f1_score(y_true, y_pred)\n",
    "    recall_score_ = recall_score(y_true, y_pred)\n",
    "\n",
    "    return accuracy_score_, f1_score_, recall_score_"
   ]
  },
  {
   "cell_type": "code",
   "execution_count": 40,
   "id": "09c5ff45",
   "metadata": {},
   "outputs": [],
   "source": [
    "def run_training_experiment(\n",
    "        X_train, \n",
    "        y_train, \n",
    "        models: dict, \n",
    "        params: dict, \n",
    "        experiment: str,\n",
    "        type: str\n",
    ") -> dict:\n",
    "    print(\">>>>>>>>>>> Running Training Experiment <<<<<<<<<<<<\")\n",
    "    models_uri = dict()\n",
    "    for m, estimator in models.items():\n",
    "        print(f\"\\nModel: {m}\")\n",
    "\n",
    "        params = parameters[m]\n",
    "\n",
    "        grid_cv = GridSearchCV(\n",
    "            estimator=estimator,\n",
    "            param_grid=params,\n",
    "            cv=3,\n",
    "            verbose=1\n",
    "        )\n",
    "\n",
    "        grid_cv.fit(X_train, y_train)\n",
    "        y_result = grid_cv.predict(X_train)\n",
    "\n",
    "        accuracy_score_, f1_score_, recall_score_ = model_evaluation(y_train, y_result)\n",
    "\n",
    "        if accuracy_score_ != 1:\n",
    "\n",
    "            mlflow.set_experiment(experiment)\n",
    "            with mlflow.start_run(run_name=m):\n",
    "                model_ = mlflow.sklearn.log_model(sk_model=grid_cv.best_estimator_, artifact_path=m)\n",
    "                models_uri[m] = model_.model_uri\n",
    "                mlflow.log_params(grid_cv.best_params_)\n",
    "\n",
    "                mlflow.log_metric(\"accuracy_score\", accuracy_score_)\n",
    "                mlflow.log_metric(\"f1_score\", f1_score_)\n",
    "                mlflow.log_metric(\"recall_score\", recall_score_)\n",
    "\n",
    "                mlflow.set_tag(\"Experiment Type\", \"Training\")\n",
    "                mlflow.set_tag(\"Data Type\", type)\n",
    "\n",
    "    print(\"\\n>>>>>>>>>>> Finishing Training Experiment <<<<<<<<<<<<\")\n",
    "    return models_uri"
   ]
  },
  {
   "cell_type": "code",
   "execution_count": 41,
   "id": "8128e8df",
   "metadata": {},
   "outputs": [],
   "source": [
    "def run_testing_experiment(\n",
    "        X_test,\n",
    "        y_test,\n",
    "        trained_models: dict,\n",
    "        experiment: str,\n",
    "        type: str\n",
    ") -> None:\n",
    "    print(\"\\n>>>>>>>>>>> Running Testing Experiment <<<<<<<<<<<<\")\n",
    "    for m, run_id in trained_models.items():\n",
    "        print(m, run_id)\n",
    "\n",
    "        loaded_model = mlflow.pyfunc.load_model(run_id)\n",
    "\n",
    "        y_pred_test = loaded_model.predict(X_test)\n",
    "\n",
    "        accuracy_score_, f1_score_, recall_score_ = model_evaluation(y_test, y_pred_test)\n",
    "\n",
    "        mlflow.set_experiment(experiment)\n",
    "        with mlflow.start_run(run_name=m):\n",
    "            mlflow.sklearn.log_model(sk_model=loaded_model, artifact_path=m)\n",
    "            mlflow.log_metric(\"accuracy_score\", accuracy_score_)\n",
    "            mlflow.log_metric(\"f1_score\", f1_score_)\n",
    "            mlflow.log_metric(\"recall_score\", recall_score_)\n",
    "\n",
    "            mlflow.set_tag(\"Experiment Type\", \"Testing\")\n",
    "            mlflow.set_tag(\"Data Type\", type)\n",
    "\n",
    "    print(\"\\n>>>>>>>>>>> Finishing Testing Experiment <<<<<<<<<<<<\")"
   ]
  },
  {
   "cell_type": "code",
   "execution_count": 42,
   "id": "176f00dc",
   "metadata": {},
   "outputs": [
    {
     "name": "stdout",
     "output_type": "stream",
     "text": [
      ">>>>>>>>>>> Running Training Experiment <<<<<<<<<<<<\n",
      "\n",
      "Model: RandomForestClassifier\n",
      "Fitting 3 folds for each of 48 candidates, totalling 144 fits\n"
     ]
    },
    {
     "name": "stderr",
     "output_type": "stream",
     "text": [
      "2025/07/19 20:45:12 WARNING mlflow.models.model: Model logged without a signature and input example. Please set `input_example` parameter when logging the model to auto infer the model signature.\n"
     ]
    },
    {
     "name": "stdout",
     "output_type": "stream",
     "text": [
      "\n",
      "Model: XGBoostClassifier\n",
      "Fitting 3 folds for each of 16 candidates, totalling 48 fits\n",
      "\n",
      "Model: SVC\n",
      "Fitting 3 folds for each of 6 candidates, totalling 18 fits\n"
     ]
    },
    {
     "name": "stderr",
     "output_type": "stream",
     "text": [
      "2025/07/19 20:47:03 WARNING mlflow.models.model: Model logged without a signature and input example. Please set `input_example` parameter when logging the model to auto infer the model signature.\n"
     ]
    },
    {
     "name": "stdout",
     "output_type": "stream",
     "text": [
      "\n",
      "Model: GaussianNB\n",
      "Fitting 3 folds for each of 4 candidates, totalling 12 fits\n"
     ]
    },
    {
     "name": "stderr",
     "output_type": "stream",
     "text": [
      "2025/07/19 20:47:05 WARNING mlflow.models.model: Model logged without a signature and input example. Please set `input_example` parameter when logging the model to auto infer the model signature.\n"
     ]
    },
    {
     "name": "stdout",
     "output_type": "stream",
     "text": [
      "\n",
      "Model: DecisionTreeClassifier\n",
      "Fitting 3 folds for each of 30 candidates, totalling 90 fits\n"
     ]
    },
    {
     "name": "stderr",
     "output_type": "stream",
     "text": [
      "2025/07/19 20:47:15 WARNING mlflow.models.model: Model logged without a signature and input example. Please set `input_example` parameter when logging the model to auto infer the model signature.\n"
     ]
    },
    {
     "name": "stdout",
     "output_type": "stream",
     "text": [
      "\n",
      "Model: HistGradientBoostingClassifier\n",
      "Fitting 3 folds for each of 24 candidates, totalling 72 fits\n"
     ]
    },
    {
     "name": "stderr",
     "output_type": "stream",
     "text": [
      "2025/07/19 20:47:39 WARNING mlflow.models.model: Model logged without a signature and input example. Please set `input_example` parameter when logging the model to auto infer the model signature.\n"
     ]
    },
    {
     "name": "stdout",
     "output_type": "stream",
     "text": [
      "\n",
      ">>>>>>>>>>> Finishing Training Experiment <<<<<<<<<<<<\n",
      "\n",
      ">>>>>>>>>>> Running Testing Experiment <<<<<<<<<<<<\n",
      "RandomForestClassifier runs:/526cb086b2974a869a1ee4302204623e/RandomForestClassifier\n"
     ]
    },
    {
     "name": "stderr",
     "output_type": "stream",
     "text": [
      "2025/07/19 20:47:41 WARNING mlflow.models.model: Model logged without a signature and input example. Please set `input_example` parameter when logging the model to auto infer the model signature.\n"
     ]
    },
    {
     "name": "stdout",
     "output_type": "stream",
     "text": [
      "SVC runs:/e5454fb8a5b54b679b177599d6ec20ee/SVC\n"
     ]
    },
    {
     "name": "stderr",
     "output_type": "stream",
     "text": [
      "2025/07/19 20:47:46 WARNING mlflow.models.model: Model logged without a signature and input example. Please set `input_example` parameter when logging the model to auto infer the model signature.\n"
     ]
    },
    {
     "name": "stdout",
     "output_type": "stream",
     "text": [
      "GaussianNB runs:/aaf8b9a0466246ad90af529cfc33a6b1/GaussianNB\n"
     ]
    },
    {
     "name": "stderr",
     "output_type": "stream",
     "text": [
      "2025/07/19 20:47:48 WARNING mlflow.models.model: Model logged without a signature and input example. Please set `input_example` parameter when logging the model to auto infer the model signature.\n"
     ]
    },
    {
     "name": "stdout",
     "output_type": "stream",
     "text": [
      "DecisionTreeClassifier runs:/ad348008803e466a9785c63395748e5e/DecisionTreeClassifier\n"
     ]
    },
    {
     "name": "stderr",
     "output_type": "stream",
     "text": [
      "2025/07/19 20:47:51 WARNING mlflow.models.model: Model logged without a signature and input example. Please set `input_example` parameter when logging the model to auto infer the model signature.\n"
     ]
    },
    {
     "name": "stdout",
     "output_type": "stream",
     "text": [
      "HistGradientBoostingClassifier runs:/f16bb70ac45d484b80ef44e6d7d7cd56/HistGradientBoostingClassifier\n"
     ]
    },
    {
     "name": "stderr",
     "output_type": "stream",
     "text": [
      "2025/07/19 20:47:53 WARNING mlflow.models.model: Model logged without a signature and input example. Please set `input_example` parameter when logging the model to auto infer the model signature.\n"
     ]
    },
    {
     "name": "stdout",
     "output_type": "stream",
     "text": [
      "\n",
      ">>>>>>>>>>> Finishing Testing Experiment <<<<<<<<<<<<\n"
     ]
    }
   ],
   "source": [
    "trained_models = run_training_experiment(\n",
    "    X_train,\n",
    "    y_train,\n",
    "    models,\n",
    "    parameters,\n",
    "    \"training_experiment\",\n",
    "    \"Original data\",\n",
    ")\n",
    "\n",
    "run_testing_experiment(\n",
    "        X_test,\n",
    "        y_test,\n",
    "        trained_models,\n",
    "        \"testing_experiment\",\n",
    "        \"Original data\",\n",
    ")"
   ]
  },
  {
   "cell_type": "markdown",
   "id": "25069f71",
   "metadata": {},
   "source": [
    "### Scale Data"
   ]
  },
  {
   "cell_type": "code",
   "execution_count": 43,
   "id": "f84c56ed",
   "metadata": {},
   "outputs": [],
   "source": [
    "scaler = MinMaxScaler(feature_range=(0, 1))\n",
    "scaler = scaler.fit(X_b.copy())\n",
    "X_b_scaled = scaler.transform(X_b.copy())"
   ]
  },
  {
   "cell_type": "markdown",
   "id": "88dab8d6",
   "metadata": {},
   "source": [
    "### Separate Scaled data into Train and Test"
   ]
  },
  {
   "cell_type": "code",
   "execution_count": 44,
   "id": "cd78ca4a",
   "metadata": {},
   "outputs": [],
   "source": [
    "X_train_scaled, X_test_scaled, y_train, y_test = train_test_split(\n",
    "    X_b_scaled, y_b, test_size=0.2, shuffle=True\n",
    ")"
   ]
  },
  {
   "cell_type": "markdown",
   "id": "55adbc1f",
   "metadata": {},
   "source": [
    "### Model experiment - Scaled Data"
   ]
  },
  {
   "cell_type": "code",
   "execution_count": 45,
   "id": "f09fce4d",
   "metadata": {},
   "outputs": [
    {
     "name": "stdout",
     "output_type": "stream",
     "text": [
      ">>>>>>>>>>> Running Training Experiment <<<<<<<<<<<<\n",
      "\n",
      "Model: RandomForestClassifier\n",
      "Fitting 3 folds for each of 48 candidates, totalling 144 fits\n"
     ]
    },
    {
     "name": "stderr",
     "output_type": "stream",
     "text": [
      "2025/07/19 20:50:32 WARNING mlflow.models.model: Model logged without a signature and input example. Please set `input_example` parameter when logging the model to auto infer the model signature.\n"
     ]
    },
    {
     "name": "stdout",
     "output_type": "stream",
     "text": [
      "\n",
      "Model: XGBoostClassifier\n",
      "Fitting 3 folds for each of 16 candidates, totalling 48 fits\n"
     ]
    },
    {
     "name": "stderr",
     "output_type": "stream",
     "text": [
      "2025/07/19 20:50:47 WARNING mlflow.models.model: Model logged without a signature and input example. Please set `input_example` parameter when logging the model to auto infer the model signature.\n"
     ]
    },
    {
     "name": "stdout",
     "output_type": "stream",
     "text": [
      "\n",
      "Model: SVC\n",
      "Fitting 3 folds for each of 6 candidates, totalling 18 fits\n"
     ]
    },
    {
     "name": "stderr",
     "output_type": "stream",
     "text": [
      "2025/07/19 20:51:25 WARNING mlflow.models.model: Model logged without a signature and input example. Please set `input_example` parameter when logging the model to auto infer the model signature.\n"
     ]
    },
    {
     "name": "stdout",
     "output_type": "stream",
     "text": [
      "\n",
      "Model: GaussianNB\n",
      "Fitting 3 folds for each of 4 candidates, totalling 12 fits\n"
     ]
    },
    {
     "name": "stderr",
     "output_type": "stream",
     "text": [
      "2025/07/19 20:51:28 WARNING mlflow.models.model: Model logged without a signature and input example. Please set `input_example` parameter when logging the model to auto infer the model signature.\n"
     ]
    },
    {
     "name": "stdout",
     "output_type": "stream",
     "text": [
      "\n",
      "Model: DecisionTreeClassifier\n",
      "Fitting 3 folds for each of 30 candidates, totalling 90 fits\n"
     ]
    },
    {
     "name": "stderr",
     "output_type": "stream",
     "text": [
      "2025/07/19 20:51:33 WARNING mlflow.models.model: Model logged without a signature and input example. Please set `input_example` parameter when logging the model to auto infer the model signature.\n"
     ]
    },
    {
     "name": "stdout",
     "output_type": "stream",
     "text": [
      "\n",
      "Model: HistGradientBoostingClassifier\n",
      "Fitting 3 folds for each of 24 candidates, totalling 72 fits\n"
     ]
    },
    {
     "name": "stderr",
     "output_type": "stream",
     "text": [
      "2025/07/19 20:51:56 WARNING mlflow.models.model: Model logged without a signature and input example. Please set `input_example` parameter when logging the model to auto infer the model signature.\n"
     ]
    },
    {
     "name": "stdout",
     "output_type": "stream",
     "text": [
      "\n",
      ">>>>>>>>>>> Finishing Training Experiment <<<<<<<<<<<<\n",
      "\n",
      ">>>>>>>>>>> Running Testing Experiment <<<<<<<<<<<<\n",
      "RandomForestClassifier runs:/ef8c0850d1ba46aba30956449ab49e18/RandomForestClassifier\n"
     ]
    },
    {
     "name": "stderr",
     "output_type": "stream",
     "text": [
      "2025/07/19 20:51:59 WARNING mlflow.models.model: Model logged without a signature and input example. Please set `input_example` parameter when logging the model to auto infer the model signature.\n"
     ]
    },
    {
     "name": "stdout",
     "output_type": "stream",
     "text": [
      "XGBoostClassifier runs:/ad9c069eb5f24dc0b6f37236c94c291e/XGBoostClassifier\n"
     ]
    },
    {
     "name": "stderr",
     "output_type": "stream",
     "text": [
      "2025/07/19 20:52:02 WARNING mlflow.models.model: Model logged without a signature and input example. Please set `input_example` parameter when logging the model to auto infer the model signature.\n"
     ]
    },
    {
     "name": "stdout",
     "output_type": "stream",
     "text": [
      "SVC runs:/ccb5dc016e5242b6907bc2613e60d39d/SVC\n"
     ]
    },
    {
     "name": "stderr",
     "output_type": "stream",
     "text": [
      "2025/07/19 20:52:06 WARNING mlflow.models.model: Model logged without a signature and input example. Please set `input_example` parameter when logging the model to auto infer the model signature.\n"
     ]
    },
    {
     "name": "stdout",
     "output_type": "stream",
     "text": [
      "GaussianNB runs:/de485392862e4c03bcef4a88286596bb/GaussianNB\n"
     ]
    },
    {
     "name": "stderr",
     "output_type": "stream",
     "text": [
      "2025/07/19 20:52:09 WARNING mlflow.models.model: Model logged without a signature and input example. Please set `input_example` parameter when logging the model to auto infer the model signature.\n"
     ]
    },
    {
     "name": "stdout",
     "output_type": "stream",
     "text": [
      "DecisionTreeClassifier runs:/12a4f6e34b184cd985b6853be3f39648/DecisionTreeClassifier\n"
     ]
    },
    {
     "name": "stderr",
     "output_type": "stream",
     "text": [
      "2025/07/19 20:52:12 WARNING mlflow.models.model: Model logged without a signature and input example. Please set `input_example` parameter when logging the model to auto infer the model signature.\n"
     ]
    },
    {
     "name": "stdout",
     "output_type": "stream",
     "text": [
      "HistGradientBoostingClassifier runs:/863fad71ab2e4c91abb86d6b16eb2996/HistGradientBoostingClassifier\n"
     ]
    },
    {
     "name": "stderr",
     "output_type": "stream",
     "text": [
      "2025/07/19 20:52:15 WARNING mlflow.models.model: Model logged without a signature and input example. Please set `input_example` parameter when logging the model to auto infer the model signature.\n"
     ]
    },
    {
     "name": "stdout",
     "output_type": "stream",
     "text": [
      "\n",
      ">>>>>>>>>>> Finishing Testing Experiment <<<<<<<<<<<<\n"
     ]
    }
   ],
   "source": [
    "trained_models_scaled = run_training_experiment(\n",
    "    X_train_scaled,\n",
    "    y_train,\n",
    "    models,\n",
    "    parameters,\n",
    "    \"training_experiment\",\n",
    "    \"Scaled data\",\n",
    ")\n",
    "\n",
    "run_testing_experiment(\n",
    "        X_test_scaled,\n",
    "        y_test,\n",
    "        trained_models_scaled,\n",
    "        \"testing_experiment\",\n",
    "        \"Scaled data\",\n",
    ")"
   ]
  },
  {
   "cell_type": "markdown",
   "id": "445c6ca2",
   "metadata": {},
   "source": [
    "## Prediction Set Up"
   ]
  },
  {
   "cell_type": "markdown",
   "id": "c95558b2",
   "metadata": {},
   "source": [
    "### Get best model from MLflow"
   ]
  },
  {
   "cell_type": "code",
   "execution_count": 4,
   "id": "735c698e",
   "metadata": {},
   "outputs": [],
   "source": [
    "from mlflow.tracking import MlflowClient\n",
    "import mlflow"
   ]
  },
  {
   "cell_type": "code",
   "execution_count": 5,
   "id": "63b76f04",
   "metadata": {},
   "outputs": [],
   "source": [
    "def get_all_models(experiment_name: str):\n",
    "    client = MlflowClient()\n",
    "    experiment = client.get_experiment_by_name(experiment_name)\n",
    "\n",
    "    all_models = client.search_runs(\n",
    "        experiment_ids=[experiment.experiment_id],\n",
    "        order_by=[\"metrics.accuracy_score DESC\"],\n",
    "    )\n",
    "\n",
    "    return all_models"
   ]
  },
  {
   "cell_type": "code",
   "execution_count": 6,
   "id": "339d531e",
   "metadata": {},
   "outputs": [],
   "source": [
    "def get_ideal_models(all_models) -> dict:\n",
    "    models_to_go = dict()\n",
    "\n",
    "    for m in all_models:\n",
    "\n",
    "        model_name = f\"{m.info.run_name} | {m.data.tags[\"Data Type\"]}\"\n",
    "        score = m.data.metrics[\"accuracy_score\"] \n",
    "        if score != 1 and score >= 0.7:\n",
    "\n",
    "            models_to_go[model_name] = score\n",
    "\n",
    "    return models_to_go"
   ]
  },
  {
   "cell_type": "code",
   "execution_count": 7,
   "id": "36f968a2",
   "metadata": {},
   "outputs": [],
   "source": [
    "def get_best_model_uri(models: dict) -> dict:\n",
    "    best_model = max(models, key=models.get)\n",
    "    model, data_type = best_model.split(\" | \")\n",
    "\n",
    "    all_trained_models = get_all_models(\"training_experiment\")\n",
    "\n",
    "    output_model = dict()\n",
    "    for m in all_trained_models:\n",
    "        model_comp = m.info.run_name\n",
    "        data_type_comp = m.data.tags[\"Data Type\"]\n",
    "\n",
    "        if model == model_comp and data_type == data_type_comp:\n",
    "            run_id = m.info.run_id\n",
    "\n",
    "            model_uri = f\"runs:/{run_id}/{model}\"\n",
    "            output_model[\"model_name\"] = model\n",
    "            output_model[\"model_uri\"] = model_uri\n",
    "            output_model[\"data_type\"] = data_type\n",
    "\n",
    "    return output_model"
   ]
  },
  {
   "cell_type": "code",
   "execution_count": 8,
   "id": "747bb042",
   "metadata": {},
   "outputs": [
    {
     "name": "stdout",
     "output_type": "stream",
     "text": [
      "Final model:\n",
      "{'model_name': 'XGBoostClassifier', 'model_uri': 'runs:/44147df1083f433fa3ec413e7b36b9d2/XGBoostClassifier', 'data_type': 'Original data'}\n"
     ]
    }
   ],
   "source": [
    "all_tested_models = get_all_models(\"testing_experiment\")\n",
    "models = get_ideal_models(all_tested_models)\n",
    "model = get_best_model_uri(models)\n",
    "\n",
    "print(f\"Final model:\\n{model}\")"
   ]
  },
  {
   "cell_type": "markdown",
   "id": "ea5e078f",
   "metadata": {},
   "source": [
    "### Making predictions"
   ]
  },
  {
   "cell_type": "code",
   "execution_count": 9,
   "id": "bb62a83a",
   "metadata": {},
   "outputs": [],
   "source": [
    "def make_prediction(model: dict, y_true):\n",
    "    loaded_model = mlflow.pyfunc.load_model(model[\"model_uri\"])\n",
    "\n",
    "    if model[\"data_type\"] == \"Original data\":\n",
    "        y_pred = loaded_model.predict(X_test)\n",
    "    else:\n",
    "        y_pred = loaded_model.predict(X_test_scaled)\n",
    "\n",
    "    acc_score = accuracy_score(y_true, y_pred)\n",
    "    conf_matrix = confusion_matrix(y_true, y_pred)\n",
    "\n",
    "    return acc_score, conf_matrix, y_pred, loaded_model"
   ]
  },
  {
   "cell_type": "code",
   "execution_count": 48,
   "id": "010832fb",
   "metadata": {},
   "outputs": [],
   "source": [
    "acc_score, conf_matrix, y_pred, loaded_model = make_prediction(model, y_test)"
   ]
  },
  {
   "cell_type": "code",
   "execution_count": 49,
   "id": "53cd1e49",
   "metadata": {},
   "outputs": [
    {
     "data": {
      "image/png": "[encoded data removed]",
      "text/plain": [
       "<Figure size 700x500 with 1 Axes>"
      ]
     },
     "metadata": {},
     "output_type": "display_data"
    }
   ],
   "source": [
    "plt.figure(figsize=(7, 5))\n",
    "sns.heatmap(conf_matrix, annot=True, cbar=False, fmt=\"d\", cmap=\"Purples\")\n",
    "plt.xlabel(\"Predicted Labels\")\n",
    "plt.ylabel(\"True Labels\")\n",
    "plt.title(f\"Confusion Matrix of {model[\"model_name\"]} | Score: {np.round(acc_score, 3)} | {model[\"data_type\"]}\", loc=\"left\")\n",
    "plt.tight_layout()\n",
    "plt.show();"
   ]
  },
  {
   "cell_type": "code",
   "execution_count": 50,
   "id": "19c4dc64",
   "metadata": {},
   "outputs": [],
   "source": [
    "fpr, tpr, threshold = roc_curve(y_test, y_pred)\n",
    "roc_auc = auc(fpr, tpr)"
   ]
  },
  {
   "cell_type": "code",
   "execution_count": 51,
   "id": "8264bee2",
   "metadata": {},
   "outputs": [
    {
     "data": {
      "image/png": "[encoded data removed]",
      "text/plain": [
       "<Figure size 600x500 with 1 Axes>"
      ]
     },
     "metadata": {},
     "output_type": "display_data"
    }
   ],
   "source": [
    "plt.figure(figsize=(6, 5))\n",
    "plt.plot(fpr, tpr, color=\"darkorange\", lw=2, label=f\"ROC curve AUC = {np.round(roc_auc, 3)}\")\n",
    "plt.plot([0, 1], [0, 1], color=\"navy\", lw=2, linestyle=\"--\")\n",
    "plt.xlim([0.0, 1.0])\n",
    "plt.ylim([0.0, 1.05])\n",
    "plt.xlabel('False positive rate (FPR)')\n",
    "plt.ylabel('True positive rate (TPR)')\n",
    "plt.title('ROC Curve', loc=\"left\")\n",
    "plt.legend(loc=\"lower right\")\n",
    "plt.grid()\n",
    "plt.show()"
   ]
  },
  {
   "cell_type": "code",
   "execution_count": null,
   "id": "6a33f4a8",
   "metadata": {},
   "outputs": [],
   "source": []
  }
 ],
 "metadata": {
  "kernelspec": {
   "display_name": "Python 3",
   "language": "python",
   "name": "python3"
  },
  "language_info": {
   "codemirror_mode": {
    "name": "ipython",
    "version": 3
   },
   "file_extension": ".py",
   "mimetype": "text/x-python",
   "name": "python",
   "nbconvert_exporter": "python",
   "pygments_lexer": "ipython3",
   "version": "3.12.10"
  }
 },
 "nbformat": 4,
 "nbformat_minor": 5
}
